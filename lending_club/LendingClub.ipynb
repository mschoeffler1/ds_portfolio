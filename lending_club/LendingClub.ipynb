{
 "cells": [
  {
   "cell_type": "markdown",
   "metadata": {},
   "source": [
    "# Load data from Lending Club\n",
    "Lending Club provides information on all past applications (and current loan status)"
   ]
  },
  {
   "cell_type": "code",
   "execution_count": null,
   "metadata": {
    "collapsed": false
   },
   "outputs": [],
   "source": [
    "import pandas as pd\n",
    "pd.set_option('display.max_columns', 100)\n",
    "%matplotlib inline\n",
    "# 2013-2014 loan data - files are available from deeper history\n",
    "past_loans = pd.read_csv('LoanStats3c_securev1.csv', header = 1, index_col=0)\n",
    "past_loans['term'] = past_loans['term'].astype('category')\n",
    "past_loans['grade'] = past_loans['grade'].astype('category')\n",
    "past_loans['sub_grade'] = past_loans['sub_grade'].astype('category')\n",
    "past_loans['home_ownership'] = past_loans['home_ownership'].astype('category')\n",
    "past_loans['verification_status'] = past_loans['verification_status'].astype('category')\n",
    "\n",
    "# Making assumption that any currently late loans are bad; may need to revisit\n",
    "di = {'Current': 'Good', 'Fully Paid': 'Good', 'Charged Off': 'Bad', 'Late (31-120 days)': 'Bad',\n",
    "       'In Grace Period': 'Bad', 'Late (16-30 days)': 'Bad', 'Default': 'Bad'}\n",
    "past_loans.replace({'loan_status': di}, inplace=True)\n",
    "past_loans['loan_status'] = past_loans['loan_status'].astype('category')\n",
    "past_loans['pymnt_plan'] = past_loans['pymnt_plan'].astype('category')\n",
    "past_loans['purpose'] = past_loans['purpose'].astype('category')\n",
    "past_loans['application_type'] = past_loans['application_type'].astype('category')\n",
    "\n",
    "# convert dates\n",
    "past_loans['issue_d'] = pd.to_datetime(past_loans['issue_d'])\n",
    "past_loans['earliest_cr_line'] = pd.to_datetime(past_loans['earliest_cr_line'])\n",
    "past_loans['last_pymnt_d'] = pd.to_datetime(past_loans['last_pymnt_d'])\n",
    "past_loans['next_pymnt_d'] = pd.to_datetime(past_loans['next_pymnt_d'])\n",
    "past_loans['last_credit_pull_d'] = pd.to_datetime(past_loans['last_credit_pull_d'])\n",
    "past_loans['issue_d'] = pd.to_datetime(past_loans['issue_d'])\n",
    "\n",
    "# convert floats\n",
    "past_loans['int_rate'] = pd.to_numeric(past_loans['int_rate'].str.extract('(.*)%'))/100\n",
    "\n",
    "\n",
    "# drop pointless data\n",
    "past_loans=past_loans.dropna(axis=1,how='all')\n",
    "past_loans.drop('application_type',axis = 1) # only contains \"individual\"\n",
    "past_loans.head(100)"
   ]
  },
  {
   "cell_type": "markdown",
   "metadata": {},
   "source": [
    "# Explore different categorical data\n",
    "What values are inside the categorical fields?"
   ]
  },
  {
   "cell_type": "code",
   "execution_count": 54,
   "metadata": {
    "collapsed": false
   },
   "outputs": [
    {
     "data": {
      "text/plain": [
       "array([' 36 months', ' 60 months', nan], dtype=object)"
      ]
     },
     "execution_count": 54,
     "metadata": {},
     "output_type": "execute_result"
    }
   ],
   "source": [
    "pd.unique(past_loans['term'])"
   ]
  },
  {
   "cell_type": "code",
   "execution_count": 55,
   "metadata": {
    "collapsed": false
   },
   "outputs": [
    {
     "data": {
      "text/plain": [
       "array(['A', 'C', 'D', 'B', 'E', 'F', 'G', nan], dtype=object)"
      ]
     },
     "execution_count": 55,
     "metadata": {},
     "output_type": "execute_result"
    }
   ],
   "source": [
    "pd.unique(past_loans['grade'])"
   ]
  },
  {
   "cell_type": "code",
   "execution_count": 56,
   "metadata": {
    "collapsed": false
   },
   "outputs": [
    {
     "data": {
      "text/plain": [
       "array(['A3', 'C1', 'D4', 'C3', 'D1', 'D5', 'B5', 'B4', 'C4', 'E5', 'D2',\n",
       "       'B3', 'C5', 'E4', 'E3', 'C2', 'B2', 'A5', 'F1', 'B1', 'D3', 'A4',\n",
       "       'E1', 'E2', 'G2', 'A1', 'G1', 'A2', 'F3', 'F2', 'G3', 'F4', 'G4',\n",
       "       'F5', 'G5', nan], dtype=object)"
      ]
     },
     "execution_count": 56,
     "metadata": {},
     "output_type": "execute_result"
    }
   ],
   "source": [
    "pd.unique(past_loans['sub_grade'])"
   ]
  },
  {
   "cell_type": "code",
   "execution_count": 57,
   "metadata": {
    "collapsed": false
   },
   "outputs": [
    {
     "data": {
      "text/plain": [
       "array(['MORTGAGE', 'RENT', 'OWN', 'ANY', nan], dtype=object)"
      ]
     },
     "execution_count": 57,
     "metadata": {},
     "output_type": "execute_result"
    }
   ],
   "source": [
    "pd.unique(past_loans['home_ownership'])"
   ]
  },
  {
   "cell_type": "code",
   "execution_count": 58,
   "metadata": {
    "collapsed": false
   },
   "outputs": [
    {
     "data": {
      "text/plain": [
       "array(['Not Verified', 'Source Verified', 'Verified', nan], dtype=object)"
      ]
     },
     "execution_count": 58,
     "metadata": {},
     "output_type": "execute_result"
    }
   ],
   "source": [
    "pd.unique(past_loans['verification_status'])"
   ]
  },
  {
   "cell_type": "code",
   "execution_count": 59,
   "metadata": {
    "collapsed": false
   },
   "outputs": [
    {
     "data": {
      "text/plain": [
       "array(['Good', 'Bad', nan], dtype=object)"
      ]
     },
     "execution_count": 59,
     "metadata": {},
     "output_type": "execute_result"
    }
   ],
   "source": [
    "pd.unique(past_loans['loan_status'])"
   ]
  },
  {
   "cell_type": "code",
   "execution_count": 60,
   "metadata": {
    "collapsed": false
   },
   "outputs": [
    {
     "data": {
      "text/plain": [
       "array(['n', 'y', nan], dtype=object)"
      ]
     },
     "execution_count": 60,
     "metadata": {},
     "output_type": "execute_result"
    }
   ],
   "source": [
    "pd.unique(past_loans['pymnt_plan'])"
   ]
  },
  {
   "cell_type": "code",
   "execution_count": 61,
   "metadata": {
    "collapsed": false
   },
   "outputs": [
    {
     "data": {
      "text/plain": [
       "array(['credit_card', 'debt_consolidation', 'car', 'house',\n",
       "       'home_improvement', 'other', 'medical', 'moving', 'major_purchase',\n",
       "       'vacation', 'small_business', 'renewable_energy', 'wedding', nan], dtype=object)"
      ]
     },
     "execution_count": 61,
     "metadata": {},
     "output_type": "execute_result"
    }
   ],
   "source": [
    "pd.unique(past_loans['purpose'])"
   ]
  },
  {
   "cell_type": "markdown",
   "metadata": {},
   "source": [
    "# Examine field types and amount of data\n",
    "Is there any missing data?"
   ]
  },
  {
   "cell_type": "code",
   "execution_count": 62,
   "metadata": {
    "collapsed": false
   },
   "outputs": [
    {
     "name": "stdout",
     "output_type": "stream",
     "text": [
      "<class 'pandas.core.frame.DataFrame'>\n",
      "Index: 235631 entries, 36805548 to Total amount funded in policy code 2: 873652739\n",
      "Data columns (total 60 columns):\n",
      "member_id                      235629 non-null float64\n",
      "loan_amnt                      235629 non-null float64\n",
      "funded_amnt                    235629 non-null float64\n",
      "funded_amnt_inv                235629 non-null float64\n",
      "term                           235629 non-null category\n",
      "int_rate                       235629 non-null object\n",
      "installment                    235629 non-null float64\n",
      "grade                          235629 non-null category\n",
      "sub_grade                      235629 non-null category\n",
      "emp_title                      222393 non-null object\n",
      "emp_length                     235629 non-null object\n",
      "home_ownership                 235629 non-null category\n",
      "annual_inc                     235629 non-null float64\n",
      "verification_status            235629 non-null category\n",
      "issue_d                        235629 non-null datetime64[ns]\n",
      "loan_status                    235629 non-null category\n",
      "pymnt_plan                     235629 non-null category\n",
      "url                            235629 non-null object\n",
      "desc                           15279 non-null object\n",
      "purpose                        235629 non-null category\n",
      "title                          235629 non-null object\n",
      "zip_code                       235629 non-null object\n",
      "addr_state                     235629 non-null object\n",
      "dti                            235629 non-null float64\n",
      "delinq_2yrs                    235629 non-null float64\n",
      "earliest_cr_line               235629 non-null datetime64[ns]\n",
      "fico_range_low                 235629 non-null float64\n",
      "fico_range_high                235629 non-null float64\n",
      "inq_last_6mths                 235629 non-null float64\n",
      "mths_since_last_delinq         119748 non-null float64\n",
      "mths_since_last_record         41524 non-null float64\n",
      "open_acc                       235629 non-null float64\n",
      "pub_rec                        235629 non-null float64\n",
      "revol_bal                      235629 non-null float64\n",
      "revol_util                     235504 non-null object\n",
      "total_acc                      235629 non-null float64\n",
      "initial_list_status            235629 non-null object\n",
      "out_prncp                      235629 non-null float64\n",
      "out_prncp_inv                  235629 non-null float64\n",
      "total_pymnt                    235629 non-null float64\n",
      "total_pymnt_inv                235629 non-null float64\n",
      "total_rec_prncp                235629 non-null float64\n",
      "total_rec_int                  235629 non-null float64\n",
      "total_rec_late_fee             235629 non-null float64\n",
      "recoveries                     235629 non-null float64\n",
      "collection_recovery_fee        235629 non-null float64\n",
      "last_pymnt_d                   235486 non-null datetime64[ns]\n",
      "last_pymnt_amnt                235629 non-null float64\n",
      "next_pymnt_d                   170256 non-null datetime64[ns]\n",
      "last_credit_pull_d             235602 non-null datetime64[ns]\n",
      "last_fico_range_high           235629 non-null float64\n",
      "last_fico_range_low            235629 non-null float64\n",
      "collections_12_mths_ex_med     235629 non-null float64\n",
      "mths_since_last_major_derog    66478 non-null float64\n",
      "policy_code                    235629 non-null float64\n",
      "application_type               235629 non-null category\n",
      "acc_now_delinq                 235629 non-null float64\n",
      "tot_coll_amt                   235629 non-null float64\n",
      "tot_cur_bal                    235629 non-null float64\n",
      "total_credit_rv                235629 non-null float64\n",
      "dtypes: category(9), datetime64[ns](5), float64(36), object(10)\n",
      "memory usage: 95.5+ MB\n"
     ]
    }
   ],
   "source": [
    "past_loans.info()"
   ]
  },
  {
   "cell_type": "markdown",
   "metadata": {},
   "source": [
    "# Check out summary stats on the numeric fields"
   ]
  },
  {
   "cell_type": "code",
   "execution_count": 63,
   "metadata": {
    "collapsed": false
   },
   "outputs": [
    {
     "data": {
      "text/html": [
       "<div>\n",
       "<table border=\"1\" class=\"dataframe\">\n",
       "  <thead>\n",
       "    <tr style=\"text-align: right;\">\n",
       "      <th></th>\n",
       "      <th>count</th>\n",
       "      <th>mean</th>\n",
       "      <th>std</th>\n",
       "      <th>min</th>\n",
       "      <th>25%</th>\n",
       "      <th>50%</th>\n",
       "      <th>75%</th>\n",
       "      <th>max</th>\n",
       "    </tr>\n",
       "  </thead>\n",
       "  <tbody>\n",
       "    <tr>\n",
       "      <th>member_id</th>\n",
       "      <td>235629</td>\n",
       "      <td>24019299.796719</td>\n",
       "      <td>8825162.024128</td>\n",
       "      <td>137225.00</td>\n",
       "      <td>15579724.00</td>\n",
       "      <td>22953173.00</td>\n",
       "      <td>31767065.00</td>\n",
       "      <td>40860827.0000</td>\n",
       "    </tr>\n",
       "    <tr>\n",
       "      <th>loan_amnt</th>\n",
       "      <td>235629</td>\n",
       "      <td>14870.156793</td>\n",
       "      <td>8438.318193</td>\n",
       "      <td>1000.00</td>\n",
       "      <td>8325.00</td>\n",
       "      <td>13000.00</td>\n",
       "      <td>20000.00</td>\n",
       "      <td>35000.0000</td>\n",
       "    </tr>\n",
       "    <tr>\n",
       "      <th>funded_amnt</th>\n",
       "      <td>235629</td>\n",
       "      <td>14870.156793</td>\n",
       "      <td>8438.318193</td>\n",
       "      <td>1000.00</td>\n",
       "      <td>8325.00</td>\n",
       "      <td>13000.00</td>\n",
       "      <td>20000.00</td>\n",
       "      <td>35000.0000</td>\n",
       "    </tr>\n",
       "    <tr>\n",
       "      <th>funded_amnt_inv</th>\n",
       "      <td>235629</td>\n",
       "      <td>14865.334169</td>\n",
       "      <td>8435.524995</td>\n",
       "      <td>950.00</td>\n",
       "      <td>8325.00</td>\n",
       "      <td>13000.00</td>\n",
       "      <td>20000.00</td>\n",
       "      <td>35000.0000</td>\n",
       "    </tr>\n",
       "    <tr>\n",
       "      <th>installment</th>\n",
       "      <td>235629</td>\n",
       "      <td>442.482374</td>\n",
       "      <td>245.050238</td>\n",
       "      <td>23.36</td>\n",
       "      <td>265.68</td>\n",
       "      <td>384.12</td>\n",
       "      <td>578.71</td>\n",
       "      <td>1409.9900</td>\n",
       "    </tr>\n",
       "    <tr>\n",
       "      <th>annual_inc</th>\n",
       "      <td>235629</td>\n",
       "      <td>74854.148281</td>\n",
       "      <td>55547.533374</td>\n",
       "      <td>3000.00</td>\n",
       "      <td>45377.00</td>\n",
       "      <td>65000.00</td>\n",
       "      <td>90000.00</td>\n",
       "      <td>7500000.0000</td>\n",
       "    </tr>\n",
       "    <tr>\n",
       "      <th>dti</th>\n",
       "      <td>235629</td>\n",
       "      <td>18.040770</td>\n",
       "      <td>8.023002</td>\n",
       "      <td>0.00</td>\n",
       "      <td>12.02</td>\n",
       "      <td>17.63</td>\n",
       "      <td>23.76</td>\n",
       "      <td>39.9900</td>\n",
       "    </tr>\n",
       "    <tr>\n",
       "      <th>delinq_2yrs</th>\n",
       "      <td>235629</td>\n",
       "      <td>0.344512</td>\n",
       "      <td>0.898319</td>\n",
       "      <td>0.00</td>\n",
       "      <td>0.00</td>\n",
       "      <td>0.00</td>\n",
       "      <td>0.00</td>\n",
       "      <td>22.0000</td>\n",
       "    </tr>\n",
       "    <tr>\n",
       "      <th>fico_range_low</th>\n",
       "      <td>235629</td>\n",
       "      <td>692.497358</td>\n",
       "      <td>29.246641</td>\n",
       "      <td>660.00</td>\n",
       "      <td>670.00</td>\n",
       "      <td>685.00</td>\n",
       "      <td>705.00</td>\n",
       "      <td>845.0000</td>\n",
       "    </tr>\n",
       "    <tr>\n",
       "      <th>fico_range_high</th>\n",
       "      <td>235629</td>\n",
       "      <td>696.497418</td>\n",
       "      <td>29.246952</td>\n",
       "      <td>664.00</td>\n",
       "      <td>674.00</td>\n",
       "      <td>689.00</td>\n",
       "      <td>709.00</td>\n",
       "      <td>850.0000</td>\n",
       "    </tr>\n",
       "    <tr>\n",
       "      <th>inq_last_6mths</th>\n",
       "      <td>235629</td>\n",
       "      <td>0.755760</td>\n",
       "      <td>1.033981</td>\n",
       "      <td>0.00</td>\n",
       "      <td>0.00</td>\n",
       "      <td>0.00</td>\n",
       "      <td>1.00</td>\n",
       "      <td>6.0000</td>\n",
       "    </tr>\n",
       "    <tr>\n",
       "      <th>mths_since_last_delinq</th>\n",
       "      <td>119748</td>\n",
       "      <td>33.398019</td>\n",
       "      <td>21.779818</td>\n",
       "      <td>0.00</td>\n",
       "      <td>15.00</td>\n",
       "      <td>30.00</td>\n",
       "      <td>49.00</td>\n",
       "      <td>188.0000</td>\n",
       "    </tr>\n",
       "    <tr>\n",
       "      <th>mths_since_last_record</th>\n",
       "      <td>41524</td>\n",
       "      <td>70.711444</td>\n",
       "      <td>28.463384</td>\n",
       "      <td>0.00</td>\n",
       "      <td>50.00</td>\n",
       "      <td>69.00</td>\n",
       "      <td>97.00</td>\n",
       "      <td>121.0000</td>\n",
       "    </tr>\n",
       "    <tr>\n",
       "      <th>open_acc</th>\n",
       "      <td>235629</td>\n",
       "      <td>11.668093</td>\n",
       "      <td>5.268175</td>\n",
       "      <td>0.00</td>\n",
       "      <td>8.00</td>\n",
       "      <td>11.00</td>\n",
       "      <td>14.00</td>\n",
       "      <td>84.0000</td>\n",
       "    </tr>\n",
       "    <tr>\n",
       "      <th>pub_rec</th>\n",
       "      <td>235629</td>\n",
       "      <td>0.222460</td>\n",
       "      <td>0.604696</td>\n",
       "      <td>0.00</td>\n",
       "      <td>0.00</td>\n",
       "      <td>0.00</td>\n",
       "      <td>0.00</td>\n",
       "      <td>63.0000</td>\n",
       "    </tr>\n",
       "    <tr>\n",
       "      <th>revol_bal</th>\n",
       "      <td>235629</td>\n",
       "      <td>16508.089289</td>\n",
       "      <td>21462.890835</td>\n",
       "      <td>0.00</td>\n",
       "      <td>6336.00</td>\n",
       "      <td>11686.00</td>\n",
       "      <td>20528.00</td>\n",
       "      <td>2560703.0000</td>\n",
       "    </tr>\n",
       "    <tr>\n",
       "      <th>total_acc</th>\n",
       "      <td>235629</td>\n",
       "      <td>26.010826</td>\n",
       "      <td>11.895675</td>\n",
       "      <td>2.00</td>\n",
       "      <td>17.00</td>\n",
       "      <td>24.00</td>\n",
       "      <td>33.00</td>\n",
       "      <td>156.0000</td>\n",
       "    </tr>\n",
       "    <tr>\n",
       "      <th>out_prncp</th>\n",
       "      <td>235629</td>\n",
       "      <td>7295.149133</td>\n",
       "      <td>7216.567653</td>\n",
       "      <td>0.00</td>\n",
       "      <td>0.00</td>\n",
       "      <td>5589.13</td>\n",
       "      <td>11570.30</td>\n",
       "      <td>32399.9400</td>\n",
       "    </tr>\n",
       "    <tr>\n",
       "      <th>out_prncp_inv</th>\n",
       "      <td>235629</td>\n",
       "      <td>7293.001286</td>\n",
       "      <td>7214.696616</td>\n",
       "      <td>0.00</td>\n",
       "      <td>0.00</td>\n",
       "      <td>5588.04</td>\n",
       "      <td>11565.39</td>\n",
       "      <td>32399.9400</td>\n",
       "    </tr>\n",
       "    <tr>\n",
       "      <th>total_pymnt</th>\n",
       "      <td>235629</td>\n",
       "      <td>9128.501825</td>\n",
       "      <td>6834.160160</td>\n",
       "      <td>0.00</td>\n",
       "      <td>4495.98</td>\n",
       "      <td>7220.40</td>\n",
       "      <td>11576.40</td>\n",
       "      <td>48507.4800</td>\n",
       "    </tr>\n",
       "    <tr>\n",
       "      <th>total_pymnt_inv</th>\n",
       "      <td>235629</td>\n",
       "      <td>9125.328977</td>\n",
       "      <td>6831.482011</td>\n",
       "      <td>0.00</td>\n",
       "      <td>4495.82</td>\n",
       "      <td>7217.24</td>\n",
       "      <td>11573.46</td>\n",
       "      <td>48438.1800</td>\n",
       "    </tr>\n",
       "    <tr>\n",
       "      <th>total_rec_prncp</th>\n",
       "      <td>235629</td>\n",
       "      <td>6847.253143</td>\n",
       "      <td>6179.516396</td>\n",
       "      <td>0.00</td>\n",
       "      <td>2875.00</td>\n",
       "      <td>4816.26</td>\n",
       "      <td>8500.00</td>\n",
       "      <td>35000.0000</td>\n",
       "    </tr>\n",
       "    <tr>\n",
       "      <th>total_rec_int</th>\n",
       "      <td>235629</td>\n",
       "      <td>2229.370925</td>\n",
       "      <td>1894.728618</td>\n",
       "      <td>0.00</td>\n",
       "      <td>889.91</td>\n",
       "      <td>1659.20</td>\n",
       "      <td>2967.57</td>\n",
       "      <td>15623.6000</td>\n",
       "    </tr>\n",
       "    <tr>\n",
       "      <th>total_rec_late_fee</th>\n",
       "      <td>235629</td>\n",
       "      <td>0.423801</td>\n",
       "      <td>4.235531</td>\n",
       "      <td>0.00</td>\n",
       "      <td>0.00</td>\n",
       "      <td>0.00</td>\n",
       "      <td>0.00</td>\n",
       "      <td>252.8000</td>\n",
       "    </tr>\n",
       "    <tr>\n",
       "      <th>recoveries</th>\n",
       "      <td>235629</td>\n",
       "      <td>51.453957</td>\n",
       "      <td>418.817327</td>\n",
       "      <td>0.00</td>\n",
       "      <td>0.00</td>\n",
       "      <td>0.00</td>\n",
       "      <td>0.00</td>\n",
       "      <td>20502.1400</td>\n",
       "    </tr>\n",
       "    <tr>\n",
       "      <th>collection_recovery_fee</th>\n",
       "      <td>235629</td>\n",
       "      <td>6.975201</td>\n",
       "      <td>65.355422</td>\n",
       "      <td>0.00</td>\n",
       "      <td>0.00</td>\n",
       "      <td>0.00</td>\n",
       "      <td>0.00</td>\n",
       "      <td>3089.5001</td>\n",
       "    </tr>\n",
       "    <tr>\n",
       "      <th>last_pymnt_amnt</th>\n",
       "      <td>235629</td>\n",
       "      <td>2669.785243</td>\n",
       "      <td>5457.528687</td>\n",
       "      <td>0.00</td>\n",
       "      <td>299.15</td>\n",
       "      <td>485.07</td>\n",
       "      <td>921.20</td>\n",
       "      <td>36234.4400</td>\n",
       "    </tr>\n",
       "    <tr>\n",
       "      <th>last_fico_range_high</th>\n",
       "      <td>235629</td>\n",
       "      <td>689.920714</td>\n",
       "      <td>62.736675</td>\n",
       "      <td>0.00</td>\n",
       "      <td>664.00</td>\n",
       "      <td>694.00</td>\n",
       "      <td>729.00</td>\n",
       "      <td>850.0000</td>\n",
       "    </tr>\n",
       "    <tr>\n",
       "      <th>last_fico_range_low</th>\n",
       "      <td>235629</td>\n",
       "      <td>681.840605</td>\n",
       "      <td>86.578854</td>\n",
       "      <td>0.00</td>\n",
       "      <td>660.00</td>\n",
       "      <td>690.00</td>\n",
       "      <td>725.00</td>\n",
       "      <td>845.0000</td>\n",
       "    </tr>\n",
       "    <tr>\n",
       "      <th>collections_12_mths_ex_med</th>\n",
       "      <td>235629</td>\n",
       "      <td>0.015440</td>\n",
       "      <td>0.143081</td>\n",
       "      <td>0.00</td>\n",
       "      <td>0.00</td>\n",
       "      <td>0.00</td>\n",
       "      <td>0.00</td>\n",
       "      <td>20.0000</td>\n",
       "    </tr>\n",
       "    <tr>\n",
       "      <th>mths_since_last_major_derog</th>\n",
       "      <td>66478</td>\n",
       "      <td>43.370378</td>\n",
       "      <td>21.961926</td>\n",
       "      <td>0.00</td>\n",
       "      <td>26.00</td>\n",
       "      <td>43.00</td>\n",
       "      <td>60.00</td>\n",
       "      <td>188.0000</td>\n",
       "    </tr>\n",
       "    <tr>\n",
       "      <th>policy_code</th>\n",
       "      <td>235629</td>\n",
       "      <td>1.000000</td>\n",
       "      <td>0.000000</td>\n",
       "      <td>1.00</td>\n",
       "      <td>1.00</td>\n",
       "      <td>1.00</td>\n",
       "      <td>1.00</td>\n",
       "      <td>1.0000</td>\n",
       "    </tr>\n",
       "    <tr>\n",
       "      <th>acc_now_delinq</th>\n",
       "      <td>235629</td>\n",
       "      <td>0.005734</td>\n",
       "      <td>0.081086</td>\n",
       "      <td>0.00</td>\n",
       "      <td>0.00</td>\n",
       "      <td>0.00</td>\n",
       "      <td>0.00</td>\n",
       "      <td>4.0000</td>\n",
       "    </tr>\n",
       "    <tr>\n",
       "      <th>tot_coll_amt</th>\n",
       "      <td>235629</td>\n",
       "      <td>270.301703</td>\n",
       "      <td>18952.919024</td>\n",
       "      <td>0.00</td>\n",
       "      <td>0.00</td>\n",
       "      <td>0.00</td>\n",
       "      <td>0.00</td>\n",
       "      <td>9152545.0000</td>\n",
       "    </tr>\n",
       "    <tr>\n",
       "      <th>tot_cur_bal</th>\n",
       "      <td>235629</td>\n",
       "      <td>139802.266962</td>\n",
       "      <td>153022.613129</td>\n",
       "      <td>0.00</td>\n",
       "      <td>29460.00</td>\n",
       "      <td>82027.00</td>\n",
       "      <td>209506.00</td>\n",
       "      <td>4026405.0000</td>\n",
       "    </tr>\n",
       "    <tr>\n",
       "      <th>total_credit_rv</th>\n",
       "      <td>235629</td>\n",
       "      <td>30709.047999</td>\n",
       "      <td>36879.796375</td>\n",
       "      <td>0.00</td>\n",
       "      <td>13300.00</td>\n",
       "      <td>22800.00</td>\n",
       "      <td>38400.00</td>\n",
       "      <td>9999999.0000</td>\n",
       "    </tr>\n",
       "  </tbody>\n",
       "</table>\n",
       "</div>"
      ],
      "text/plain": [
       "                              count             mean             std  \\\n",
       "member_id                    235629  24019299.796719  8825162.024128   \n",
       "loan_amnt                    235629     14870.156793     8438.318193   \n",
       "funded_amnt                  235629     14870.156793     8438.318193   \n",
       "funded_amnt_inv              235629     14865.334169     8435.524995   \n",
       "installment                  235629       442.482374      245.050238   \n",
       "annual_inc                   235629     74854.148281    55547.533374   \n",
       "dti                          235629        18.040770        8.023002   \n",
       "delinq_2yrs                  235629         0.344512        0.898319   \n",
       "fico_range_low               235629       692.497358       29.246641   \n",
       "fico_range_high              235629       696.497418       29.246952   \n",
       "inq_last_6mths               235629         0.755760        1.033981   \n",
       "mths_since_last_delinq       119748        33.398019       21.779818   \n",
       "mths_since_last_record        41524        70.711444       28.463384   \n",
       "open_acc                     235629        11.668093        5.268175   \n",
       "pub_rec                      235629         0.222460        0.604696   \n",
       "revol_bal                    235629     16508.089289    21462.890835   \n",
       "total_acc                    235629        26.010826       11.895675   \n",
       "out_prncp                    235629      7295.149133     7216.567653   \n",
       "out_prncp_inv                235629      7293.001286     7214.696616   \n",
       "total_pymnt                  235629      9128.501825     6834.160160   \n",
       "total_pymnt_inv              235629      9125.328977     6831.482011   \n",
       "total_rec_prncp              235629      6847.253143     6179.516396   \n",
       "total_rec_int                235629      2229.370925     1894.728618   \n",
       "total_rec_late_fee           235629         0.423801        4.235531   \n",
       "recoveries                   235629        51.453957      418.817327   \n",
       "collection_recovery_fee      235629         6.975201       65.355422   \n",
       "last_pymnt_amnt              235629      2669.785243     5457.528687   \n",
       "last_fico_range_high         235629       689.920714       62.736675   \n",
       "last_fico_range_low          235629       681.840605       86.578854   \n",
       "collections_12_mths_ex_med   235629         0.015440        0.143081   \n",
       "mths_since_last_major_derog   66478        43.370378       21.961926   \n",
       "policy_code                  235629         1.000000        0.000000   \n",
       "acc_now_delinq               235629         0.005734        0.081086   \n",
       "tot_coll_amt                 235629       270.301703    18952.919024   \n",
       "tot_cur_bal                  235629    139802.266962   153022.613129   \n",
       "total_credit_rv              235629     30709.047999    36879.796375   \n",
       "\n",
       "                                   min          25%          50%          75%  \\\n",
       "member_id                    137225.00  15579724.00  22953173.00  31767065.00   \n",
       "loan_amnt                      1000.00      8325.00     13000.00     20000.00   \n",
       "funded_amnt                    1000.00      8325.00     13000.00     20000.00   \n",
       "funded_amnt_inv                 950.00      8325.00     13000.00     20000.00   \n",
       "installment                      23.36       265.68       384.12       578.71   \n",
       "annual_inc                     3000.00     45377.00     65000.00     90000.00   \n",
       "dti                               0.00        12.02        17.63        23.76   \n",
       "delinq_2yrs                       0.00         0.00         0.00         0.00   \n",
       "fico_range_low                  660.00       670.00       685.00       705.00   \n",
       "fico_range_high                 664.00       674.00       689.00       709.00   \n",
       "inq_last_6mths                    0.00         0.00         0.00         1.00   \n",
       "mths_since_last_delinq            0.00        15.00        30.00        49.00   \n",
       "mths_since_last_record            0.00        50.00        69.00        97.00   \n",
       "open_acc                          0.00         8.00        11.00        14.00   \n",
       "pub_rec                           0.00         0.00         0.00         0.00   \n",
       "revol_bal                         0.00      6336.00     11686.00     20528.00   \n",
       "total_acc                         2.00        17.00        24.00        33.00   \n",
       "out_prncp                         0.00         0.00      5589.13     11570.30   \n",
       "out_prncp_inv                     0.00         0.00      5588.04     11565.39   \n",
       "total_pymnt                       0.00      4495.98      7220.40     11576.40   \n",
       "total_pymnt_inv                   0.00      4495.82      7217.24     11573.46   \n",
       "total_rec_prncp                   0.00      2875.00      4816.26      8500.00   \n",
       "total_rec_int                     0.00       889.91      1659.20      2967.57   \n",
       "total_rec_late_fee                0.00         0.00         0.00         0.00   \n",
       "recoveries                        0.00         0.00         0.00         0.00   \n",
       "collection_recovery_fee           0.00         0.00         0.00         0.00   \n",
       "last_pymnt_amnt                   0.00       299.15       485.07       921.20   \n",
       "last_fico_range_high              0.00       664.00       694.00       729.00   \n",
       "last_fico_range_low               0.00       660.00       690.00       725.00   \n",
       "collections_12_mths_ex_med        0.00         0.00         0.00         0.00   \n",
       "mths_since_last_major_derog       0.00        26.00        43.00        60.00   \n",
       "policy_code                       1.00         1.00         1.00         1.00   \n",
       "acc_now_delinq                    0.00         0.00         0.00         0.00   \n",
       "tot_coll_amt                      0.00         0.00         0.00         0.00   \n",
       "tot_cur_bal                       0.00     29460.00     82027.00    209506.00   \n",
       "total_credit_rv                   0.00     13300.00     22800.00     38400.00   \n",
       "\n",
       "                                       max  \n",
       "member_id                    40860827.0000  \n",
       "loan_amnt                       35000.0000  \n",
       "funded_amnt                     35000.0000  \n",
       "funded_amnt_inv                 35000.0000  \n",
       "installment                      1409.9900  \n",
       "annual_inc                    7500000.0000  \n",
       "dti                                39.9900  \n",
       "delinq_2yrs                        22.0000  \n",
       "fico_range_low                    845.0000  \n",
       "fico_range_high                   850.0000  \n",
       "inq_last_6mths                      6.0000  \n",
       "mths_since_last_delinq            188.0000  \n",
       "mths_since_last_record            121.0000  \n",
       "open_acc                           84.0000  \n",
       "pub_rec                            63.0000  \n",
       "revol_bal                     2560703.0000  \n",
       "total_acc                         156.0000  \n",
       "out_prncp                       32399.9400  \n",
       "out_prncp_inv                   32399.9400  \n",
       "total_pymnt                     48507.4800  \n",
       "total_pymnt_inv                 48438.1800  \n",
       "total_rec_prncp                 35000.0000  \n",
       "total_rec_int                   15623.6000  \n",
       "total_rec_late_fee                252.8000  \n",
       "recoveries                      20502.1400  \n",
       "collection_recovery_fee          3089.5001  \n",
       "last_pymnt_amnt                 36234.4400  \n",
       "last_fico_range_high              850.0000  \n",
       "last_fico_range_low               845.0000  \n",
       "collections_12_mths_ex_med         20.0000  \n",
       "mths_since_last_major_derog       188.0000  \n",
       "policy_code                         1.0000  \n",
       "acc_now_delinq                      4.0000  \n",
       "tot_coll_amt                  9152545.0000  \n",
       "tot_cur_bal                   4026405.0000  \n",
       "total_credit_rv               9999999.0000  "
      ]
     },
     "execution_count": 63,
     "metadata": {},
     "output_type": "execute_result"
    }
   ],
   "source": [
    "past_loans.describe().transpose() #.to_string()"
   ]
  },
  {
   "cell_type": "markdown",
   "metadata": {},
   "source": [
    "# Create dependent and independent data\n"
   ]
  },
  {
   "cell_type": "code",
   "execution_count": 64,
   "metadata": {
    "collapsed": false
   },
   "outputs": [],
   "source": [
    "X = past_loans.drop('loan_status', axis = 1)\n",
    "y = past_loans['loan_status']"
   ]
  },
  {
   "cell_type": "markdown",
   "metadata": {},
   "source": [
    "# Split into training and test data"
   ]
  },
  {
   "cell_type": "code",
   "execution_count": 65,
   "metadata": {
    "collapsed": true
   },
   "outputs": [],
   "source": [
    "from sklearn.cross_validation import train_test_split\n",
    "X_train, X_test, y_train, y_test = train_test_split(X, y, random_state=1)\n",
    "# 10 cross validation iterations with 20% test / 80% train\n",
    "from sklearn.cross_validation import ShuffleSplit\n",
    "cv = ShuffleSplit(X_train.shape[0], n_iter=10, test_size=0.2, random_state=0)"
   ]
  },
  {
   "cell_type": "markdown",
   "metadata": {},
   "source": [
    "# Standardize the data"
   ]
  },
  {
   "cell_type": "code",
   "execution_count": 66,
   "metadata": {
    "collapsed": false
   },
   "outputs": [
    {
     "ename": "ValueError",
     "evalue": "could not convert string to float: INDIVIDUAL",
     "output_type": "error",
     "traceback": [
      "\u001b[0;31m---------------------------------------------------------------------------\u001b[0m",
      "\u001b[0;31mValueError\u001b[0m                                Traceback (most recent call last)",
      "\u001b[0;32m<ipython-input-66-bb51522ae088>\u001b[0m in \u001b[0;36m<module>\u001b[0;34m()\u001b[0m\n\u001b[1;32m      2\u001b[0m \u001b[0mstdsc\u001b[0m \u001b[0;34m=\u001b[0m \u001b[0mStandardScaler\u001b[0m\u001b[0;34m(\u001b[0m\u001b[0;34m)\u001b[0m\u001b[0;34m\u001b[0m\u001b[0m\n\u001b[1;32m      3\u001b[0m \u001b[0;31m# transform our training features\u001b[0m\u001b[0;34m\u001b[0m\u001b[0;34m\u001b[0m\u001b[0m\n\u001b[0;32m----> 4\u001b[0;31m \u001b[0mX_train_std\u001b[0m \u001b[0;34m=\u001b[0m \u001b[0mstdsc\u001b[0m\u001b[0;34m.\u001b[0m\u001b[0mfit_transform\u001b[0m\u001b[0;34m(\u001b[0m\u001b[0mX_train\u001b[0m\u001b[0;34m)\u001b[0m\u001b[0;34m\u001b[0m\u001b[0m\n\u001b[0m\u001b[1;32m      5\u001b[0m \u001b[0;31m# transform the testing features in the same way\u001b[0m\u001b[0;34m\u001b[0m\u001b[0;34m\u001b[0m\u001b[0m\n\u001b[1;32m      6\u001b[0m \u001b[0mX_test_std\u001b[0m \u001b[0;34m=\u001b[0m \u001b[0mstdsc\u001b[0m\u001b[0;34m.\u001b[0m\u001b[0mtransform\u001b[0m\u001b[0;34m(\u001b[0m\u001b[0mX_test\u001b[0m\u001b[0;34m)\u001b[0m\u001b[0;34m\u001b[0m\u001b[0m\n",
      "\u001b[0;32m//anaconda/lib/python2.7/site-packages/sklearn/base.pyc\u001b[0m in \u001b[0;36mfit_transform\u001b[0;34m(self, X, y, **fit_params)\u001b[0m\n\u001b[1;32m    431\u001b[0m         \u001b[0;32mif\u001b[0m \u001b[0my\u001b[0m \u001b[0;32mis\u001b[0m \u001b[0mNone\u001b[0m\u001b[0;34m:\u001b[0m\u001b[0;34m\u001b[0m\u001b[0m\n\u001b[1;32m    432\u001b[0m             \u001b[0;31m# fit method of arity 1 (unsupervised transformation)\u001b[0m\u001b[0;34m\u001b[0m\u001b[0;34m\u001b[0m\u001b[0m\n\u001b[0;32m--> 433\u001b[0;31m             \u001b[0;32mreturn\u001b[0m \u001b[0mself\u001b[0m\u001b[0;34m.\u001b[0m\u001b[0mfit\u001b[0m\u001b[0;34m(\u001b[0m\u001b[0mX\u001b[0m\u001b[0;34m,\u001b[0m \u001b[0;34m**\u001b[0m\u001b[0mfit_params\u001b[0m\u001b[0;34m)\u001b[0m\u001b[0;34m.\u001b[0m\u001b[0mtransform\u001b[0m\u001b[0;34m(\u001b[0m\u001b[0mX\u001b[0m\u001b[0;34m)\u001b[0m\u001b[0;34m\u001b[0m\u001b[0m\n\u001b[0m\u001b[1;32m    434\u001b[0m         \u001b[0;32melse\u001b[0m\u001b[0;34m:\u001b[0m\u001b[0;34m\u001b[0m\u001b[0m\n\u001b[1;32m    435\u001b[0m             \u001b[0;31m# fit method of arity 2 (supervised transformation)\u001b[0m\u001b[0;34m\u001b[0m\u001b[0;34m\u001b[0m\u001b[0m\n",
      "\u001b[0;32m//anaconda/lib/python2.7/site-packages/sklearn/preprocessing/data.pyc\u001b[0m in \u001b[0;36mfit\u001b[0;34m(self, X, y)\u001b[0m\n\u001b[1;32m    346\u001b[0m         \"\"\"\n\u001b[1;32m    347\u001b[0m         X = check_array(X, accept_sparse='csr', copy=self.copy,\n\u001b[0;32m--> 348\u001b[0;31m                         ensure_2d=False)\n\u001b[0m\u001b[1;32m    349\u001b[0m         \u001b[0;32mif\u001b[0m \u001b[0mwarn_if_not_float\u001b[0m\u001b[0;34m(\u001b[0m\u001b[0mX\u001b[0m\u001b[0;34m,\u001b[0m \u001b[0mestimator\u001b[0m\u001b[0;34m=\u001b[0m\u001b[0mself\u001b[0m\u001b[0;34m)\u001b[0m\u001b[0;34m:\u001b[0m\u001b[0;34m\u001b[0m\u001b[0m\n\u001b[1;32m    350\u001b[0m             \u001b[0mX\u001b[0m \u001b[0;34m=\u001b[0m \u001b[0mX\u001b[0m\u001b[0;34m.\u001b[0m\u001b[0mastype\u001b[0m\u001b[0;34m(\u001b[0m\u001b[0mnp\u001b[0m\u001b[0;34m.\u001b[0m\u001b[0mfloat\u001b[0m\u001b[0;34m)\u001b[0m\u001b[0;34m\u001b[0m\u001b[0m\n",
      "\u001b[0;32m//anaconda/lib/python2.7/site-packages/sklearn/utils/validation.pyc\u001b[0m in \u001b[0;36mcheck_array\u001b[0;34m(array, accept_sparse, dtype, order, copy, force_all_finite, ensure_2d, allow_nd, ensure_min_samples, ensure_min_features)\u001b[0m\n\u001b[1;32m    345\u001b[0m         \u001b[0;31m# make sure we actually converted to numeric:\u001b[0m\u001b[0;34m\u001b[0m\u001b[0;34m\u001b[0m\u001b[0m\n\u001b[1;32m    346\u001b[0m         \u001b[0;32mif\u001b[0m \u001b[0mdtype_numeric\u001b[0m \u001b[0;32mand\u001b[0m \u001b[0marray\u001b[0m\u001b[0;34m.\u001b[0m\u001b[0mdtype\u001b[0m\u001b[0;34m.\u001b[0m\u001b[0mkind\u001b[0m \u001b[0;34m==\u001b[0m \u001b[0;34m\"O\"\u001b[0m\u001b[0;34m:\u001b[0m\u001b[0;34m\u001b[0m\u001b[0m\n\u001b[0;32m--> 347\u001b[0;31m             \u001b[0marray\u001b[0m \u001b[0;34m=\u001b[0m \u001b[0marray\u001b[0m\u001b[0;34m.\u001b[0m\u001b[0mastype\u001b[0m\u001b[0;34m(\u001b[0m\u001b[0mnp\u001b[0m\u001b[0;34m.\u001b[0m\u001b[0mfloat64\u001b[0m\u001b[0;34m)\u001b[0m\u001b[0;34m\u001b[0m\u001b[0m\n\u001b[0m\u001b[1;32m    348\u001b[0m         \u001b[0;32mif\u001b[0m \u001b[0;32mnot\u001b[0m \u001b[0mallow_nd\u001b[0m \u001b[0;32mand\u001b[0m \u001b[0marray\u001b[0m\u001b[0;34m.\u001b[0m\u001b[0mndim\u001b[0m \u001b[0;34m>=\u001b[0m \u001b[0;36m3\u001b[0m\u001b[0;34m:\u001b[0m\u001b[0;34m\u001b[0m\u001b[0m\n\u001b[1;32m    349\u001b[0m             raise ValueError(\"Found array with dim %d. Expected <= 2\" %\n",
      "\u001b[0;31mValueError\u001b[0m: could not convert string to float: INDIVIDUAL"
     ]
    }
   ],
   "source": [
    "from sklearn.preprocessing import StandardScaler\n",
    "stdsc = StandardScaler()\n",
    "# transform our training features\n",
    "X_train_std = stdsc.fit_transform(X_train)\n",
    "# transform the testing features in the same way\n",
    "X_test_std = stdsc.transform(X_test)"
   ]
  },
  {
   "cell_type": "code",
   "execution_count": null,
   "metadata": {
    "collapsed": true
   },
   "outputs": [],
   "source": []
  }
 ],
 "metadata": {
  "kernelspec": {
   "display_name": "Python 2",
   "language": "python",
   "name": "python2"
  },
  "language_info": {
   "codemirror_mode": {
    "name": "ipython",
    "version": 2
   },
   "file_extension": ".py",
   "mimetype": "text/x-python",
   "name": "python",
   "nbconvert_exporter": "python",
   "pygments_lexer": "ipython2",
   "version": "2.7.10"
  }
 },
 "nbformat": 4,
 "nbformat_minor": 0
}
