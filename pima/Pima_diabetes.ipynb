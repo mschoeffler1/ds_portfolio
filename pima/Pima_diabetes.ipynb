{
 "cells": [
  {
   "cell_type": "markdown",
   "metadata": {},
   "source": [
    "Describe the content of the dataset and its goals\n",
    "Describe the features and formulate a hypothesis on which might be relevant in predicting diabetes\n",
    "Describe the missing/NULL values. Decide if you should impute or drop them and justify your choice.\n",
    "Come up with a benchmark for the minimum performance that an algorithm should have on this dataset\n",
    "What's the best performance you can get with kNN? Is kNN a good choice for this dataset?\n",
    "What's the best performance you can get with Naive Bayes? Is NB a good choice for this dataset?\n",
    "What's the best performance you can get with Logistic Regression? Is LR a good choice for this dataset?\n",
    "What's the best performance you can get with Random Forest? Is RF a good choice for this dataset?\n",
    "If you could only choose one, which classifer from the above that you already ran is best? How do you define best? (hint: could be prediction accuracy, running time, interpretability, etc)"
   ]
  }
 ],
 "metadata": {
  "kernelspec": {
   "display_name": "Python 2",
   "language": "python",
   "name": "python2"
  },
  "language_info": {
   "codemirror_mode": {
    "name": "ipython",
    "version": 2
   },
   "file_extension": ".py",
   "mimetype": "text/x-python",
   "name": "python",
   "nbconvert_exporter": "python",
   "pygments_lexer": "ipython2",
   "version": "2.7.10"
  }
 },
 "nbformat": 4,
 "nbformat_minor": 0
}
