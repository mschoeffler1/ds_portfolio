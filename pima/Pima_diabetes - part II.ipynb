{
 "cells": [
  {
   "cell_type": "markdown",
   "metadata": {},
   "source": [
    "# Pima diabetes - part II\n",
    "The first diabetes study reached a few conclusions: \n",
    "- The data set is skewed - filtered by the original researchers to exclude results with high glucose levels\n",
    "- Initial screening (without blood tests) reaches 70% accuracy and full testing reaches 75% accuracy."
   ]
  },
  {
   "cell_type": "markdown",
   "metadata": {},
   "source": [
    "## Questions for further study\n",
    "We hope to achieve higher accuracy, possibly through unsupervised learning. \n",
    "\n",
    "Can k-means or PCA deliver? Let's see what happens if we perform unsupervised before supervised."
   ]
  },
  {
   "cell_type": "markdown",
   "metadata": {},
   "source": [
    "## Data limitations\n",
    "The study is biased in a number of important ways:\n",
    "- **Data has been filtered to remove samples with glucose levels > 200 (positive test for diabetes)**; severe diabetics have been subtly excluded from study.\n",
    "- Limited to women over 21 years old; men and children may see different patterns of diabetes\n",
    "- Limited to Pima Indians; they were studied specifically because of a genetic abnormality affecting diabetes\n",
    "- Conducted in 1990; American diets have changed drastically since then, with a large uptick in diabetes\n",
    "- The cost of blood tests was estimated in 1990. Glucose finger sticks can now be conducted quickly and cost approximately $0.25."
   ]
  },
  {
   "cell_type": "markdown",
   "metadata": {},
   "source": [
    "## Features\n",
    "\n",
    "A number of features in this dataset should be relevant for predicting diabetes. I have written preliminary notes about their usefulness in our analysis along with each field:\n",
    "- ** Number of times pregnant**\n",
    "- **Plasma glucose concentration a 2 hours in an oral glucose tolerance test** \n",
    "- **Diastolic blood pressure (mm Hg)**\n",
    "- **Triceps skin fold thickness (mm)** - may have a negative coefficient when used together with BMI\n",
    "- **2-Hour serum insulin (mu U/ml)** - correlated with glucose\n",
    "- **Body mass index (weight in kg/(height in m)^2)**\n",
    "- **Diabetes pedigree function** - Do relatives have diabetes?\n",
    "- **Age (years)** - Diabetes is either congenital (Type I) or develops over time in correlation with other factors (Type II). The data may show interaction with different predictors, depending on age of diagnosis. Also, older people have more time to have had their disease diagnosed.\n",
    "\n",
    "A quick look at the data shows some factors obviously correlate well with diabetes. \n",
    "- Diabetics have a mean BMI of 35 vs 30 for non-diabetics\n",
    "- Diabetics have a mean glucose test of 140 vs 115 for non-diabetics\n",
    "- Diabetics have a mean age of 36 vs 31 for non-diabetics"
   ]
  },
  {
   "cell_type": "markdown",
   "metadata": {},
   "source": [
    "### New features\n",
    "Other features may prove useful:\n",
    "- **Pregnant^2** - I expect a single pregnancy to have a large effect (see postscript)\n",
    "- **Skin\\*BMI** - I expect these to interact (see postscript) \n",
    "- **BMI^2** - The effect may be more complex than linear"
   ]
  },
  {
   "cell_type": "markdown",
   "metadata": {},
   "source": [
    "## Null values and correlations\n",
    "Zeros appear in many columns (example: glucose) where they are biologically impossible. I assume these zeros indicate null.\n",
    "\n",
    "Pregnancies are correlated with age (makes sense on reflection). They both should be investigated, as they may have different effects.\n",
    "\n",
    "Most fields are almost entirely populated - and the missing values should be imputed. The insulin test was only completed 51%  of the time (394/768). The missing rows should be dropped.\n",
    "\n",
    "As expected, glucose and insulin are highly correlated (58%). This correlation leaves open the possibility of dropping one of these tests without adverse effect.\n",
    "\n",
    "Other fields show correlation:\n",
    "- Age and pregnancy (54%): women have more babies as they grow older. There is slightly less correlation with pregnancy^2 (49%), making pregnancy a good candidate for dropping\n",
    "- Skin fold and bmi (65%): fatter people are likely to carry subcutaneous fat. However, I expect the possibility of a complex interaction (see postscript) and am open to keeping both fields\n",
    "\n",
    "The constructed fields naturally show high correlation with the fields they were built from, but the models may benefit from keeping all fields:\n",
    "- Pregnancies and pregnancies^2 (94%)\n",
    "- Skin fold and skin fold * bmi (94%)\n",
    "- BMI and skin fold * bmi (85%)\n",
    "\n",
    "I propose four different statistical studies that will help us investigate possible testing strategies:\n",
    "1. All fields, except blood tests\n",
    "2. All fields, except insulin test, dropping rows with null glucose\n",
    "3. All fields, except glucose test, dropping rows with null insulin\n",
    "4. All fields, dropping rows with null glucose or insulin"
   ]
  },
  {
   "cell_type": "markdown",
   "metadata": {},
   "source": [
    "### Dropped features\n",
    "A few features were dropped because they proved to have low importance scores - pregnancies (0.051) and diastolic blood pressure (0.047). Pregnancies was also highly correlated with age and pregnancies ^ 2. \n",
    "\n",
    "Note: these features may have been more important before additional features were added."
   ]
  },
  {
   "cell_type": "markdown",
   "metadata": {},
   "source": [
    "## Conclusion\n",
    "Each predictive model is expected to beat 67% accuracy - the accuracy of simply assuming the patient is diabetic. A better goal is 76% sensitivity / specificity (statistics from original study).\n",
    "\n",
    "A number of statistical methods for each of the four models were attempted. Each brings its own assumed advantages, but the proof is in the (experimental) pudding.\n",
    "- Naive Bayes - should work well with low amounts of training data, but has problems with correlated data\n",
    "- Random forest is difficult to overfit, but it's difficult to explain the results\n",
    "- k Nearest Neighbors is sensitive to irrelevant or correlated features\n",
    "\n",
    "Different methods were superior for the different data sets. The accuracies for the glucose set were:\n",
    "- Random Forest (68%) \n",
    "- kNN (75%)\n",
    "- Naive Bayes (67%)\n",
    "- Logistic Regression (75%)\n",
    "\n",
    "The training curves for None and Glucose showed a reasonably flat slope on the right side of the graph, so our models had reasonable variance. We could improve these models by adding more predictors.\n",
    "\n",
    "The training curves for Insulin and Both demonstrated some variance. They could be improved by reducing irrelevant predictors further.\n",
    "\n",
    "For our purpose, speed is not very important (each method works in a blink); neither is interpretability (assuming doctors have a computer available). Interpretability would be more important if we were providing advice (\"focus on your blood pressure\").\n",
    "\n",
    "Ultimately, the glucose test proved superior to either the insulin test or the combination of both (possibly because many cases did not contain insulin test results). \n"
   ]
  },
  {
   "cell_type": "markdown",
   "metadata": {},
   "source": [
    "### Recommendation\n",
    "Based on what we see in the data:\n",
    "1. Screen patients with no blood test (Logistic Regression - 70% accuracy). \n",
    "2. If they show a high likelihood of diabetes, follow with a glucose test (Logistic Regression - 75% accuracy).\n",
    "\n",
    "However, the study filtered out the highest glucose tests (and glucose testing is now much cheaper). A repeated study would probably show more advantage in testing glucose."
   ]
  },
  {
   "cell_type": "markdown",
   "metadata": {
    "collapsed": true
   },
   "source": [
    "### Postscript\n",
    "\n",
    "I have personally performed my own research and self-experimentation in this area. Diabetes is part of a related complex of diseases (collectively referred to as \"metabolic syndrome\" in the medical literature):\n",
    "- Heart disease\n",
    "- Stroke\n",
    "- Cancer\n",
    "- Alzheimer's (according to some sources)\n",
    "\n",
    "Specifically, I've been investigating an unorthodox hypothesis: **a root cause of all these diseases is physical compression of the pancreas, leading to poor regulation of glucose.** Glucose, while vital for the body, is highly reactive. It sets off many harmful biological cascades when levels are far different from homeostasis. \n",
    "\n",
    "There's a great deal of indirect evidence for this theory, including:\n",
    "- People who sit (physical compression) for long periods are more likely to develop metabolic syndrome\n",
    "- People with high central body mass (visceral rather than subcutaneous fat, leading to physical compression) are more likely to develop metabolic syndrome\n",
    "- Pregnant women (physical compression) sometimes develop \"gestational diabetes\"\n",
    "- Women are more likely than men to lay down fat subcutaneously, even though visceral fat is anatomically more efficient (imagine running with weights tied to your ankles vs. carried in a backpack)\n",
    "- The pancreas is one of the few hormone glands that is not protected from physical pressure\n",
    "\n",
    "This dataset holds particular interest for me. **Are you aware of other publically available diabetes datasets?**"
   ]
  },
  {
   "cell_type": "markdown",
   "metadata": {},
   "source": [
    "### Further improvement\n",
    "I hope to figure out / apply:\n",
    "- Removing outliers from training set\n",
    "- Tune each of the four data sets individually\n",
    "- Tune the \"none\" algorithm towards recall (the learning curve was focused there)"
   ]
  },
  {
   "cell_type": "markdown",
   "metadata": {},
   "source": [
    "## Analysis"
   ]
  },
  {
   "cell_type": "code",
   "execution_count": 62,
   "metadata": {
    "collapsed": true
   },
   "outputs": [],
   "source": [
    "# Mike Schoeffler\n",
    "# Reviewer(s): Roger Zuniga (any remaining errors are my own)\n",
    "# 2/5/16 Set up data import\n",
    "import pandas as pd\n",
    "import numpy as np\n",
    "import matplotlib.pyplot as plt\n",
    "plt.style.use('ggplot') # use ggplot style everywhere\n",
    "# show graphs in notebook\n",
    "% matplotlib inline "
   ]
  },
  {
   "cell_type": "markdown",
   "metadata": {},
   "source": [
    "### Import data"
   ]
  },
  {
   "cell_type": "code",
   "execution_count": 63,
   "metadata": {
    "collapsed": false
   },
   "outputs": [],
   "source": [
    "# import the diabetes data set\n",
    "# change 0s in particular columns (but not all) to null\n",
    "pima_diabetes = pd.read_csv('pima-indians-diabetes.data', \n",
    "    names = ['pregnancies', 'glucose', 'dbp', 'skin_fold', 'insulin', 'bmi', 'pedigree', 'age', 'diabetic'],\n",
    "    na_values={\"glucose\" : \"0\", \"dbp\" : \"0\", \"skin_fold\" : \"0\", \"insulin\" : \"0\", \"bmi\" : \"0\"})\n",
    "\n",
    "# add more features\n",
    "pima_diabetes['pregnancies2'] = pima_diabetes['pregnancies'] ** 2\n",
    "pima_diabetes['skin_bmi'] = pima_diabetes['skin_fold'] * pima_diabetes['bmi']\n",
    "pima_diabetes['bmi2'] = pima_diabetes['bmi'] ** 2"
   ]
  },
  {
   "cell_type": "markdown",
   "metadata": {},
   "source": [
    "### Explore"
   ]
  },
  {
   "cell_type": "code",
   "execution_count": 64,
   "metadata": {
    "collapsed": false
   },
   "outputs": [
    {
     "data": {
      "text/html": [
       "<div>\n",
       "<table border=\"1\" class=\"dataframe\">\n",
       "  <thead>\n",
       "    <tr style=\"text-align: right;\">\n",
       "      <th></th>\n",
       "      <th>pregnancies</th>\n",
       "      <th>glucose</th>\n",
       "      <th>dbp</th>\n",
       "      <th>skin_fold</th>\n",
       "      <th>insulin</th>\n",
       "      <th>bmi</th>\n",
       "      <th>pedigree</th>\n",
       "      <th>age</th>\n",
       "      <th>diabetic</th>\n",
       "      <th>pregnancies2</th>\n",
       "      <th>skin_bmi</th>\n",
       "      <th>bmi2</th>\n",
       "    </tr>\n",
       "  </thead>\n",
       "  <tbody>\n",
       "    <tr>\n",
       "      <th>0</th>\n",
       "      <td>6</td>\n",
       "      <td>148.000</td>\n",
       "      <td>72.000</td>\n",
       "      <td>35.000</td>\n",
       "      <td>nan</td>\n",
       "      <td>33.600</td>\n",
       "      <td>0.627</td>\n",
       "      <td>50</td>\n",
       "      <td>1</td>\n",
       "      <td>36</td>\n",
       "      <td>1176.000</td>\n",
       "      <td>1128.960</td>\n",
       "    </tr>\n",
       "    <tr>\n",
       "      <th>1</th>\n",
       "      <td>1</td>\n",
       "      <td>85.000</td>\n",
       "      <td>66.000</td>\n",
       "      <td>29.000</td>\n",
       "      <td>nan</td>\n",
       "      <td>26.600</td>\n",
       "      <td>0.351</td>\n",
       "      <td>31</td>\n",
       "      <td>0</td>\n",
       "      <td>1</td>\n",
       "      <td>771.400</td>\n",
       "      <td>707.560</td>\n",
       "    </tr>\n",
       "    <tr>\n",
       "      <th>2</th>\n",
       "      <td>8</td>\n",
       "      <td>183.000</td>\n",
       "      <td>64.000</td>\n",
       "      <td>nan</td>\n",
       "      <td>nan</td>\n",
       "      <td>23.300</td>\n",
       "      <td>0.672</td>\n",
       "      <td>32</td>\n",
       "      <td>1</td>\n",
       "      <td>64</td>\n",
       "      <td>nan</td>\n",
       "      <td>542.890</td>\n",
       "    </tr>\n",
       "    <tr>\n",
       "      <th>3</th>\n",
       "      <td>1</td>\n",
       "      <td>89.000</td>\n",
       "      <td>66.000</td>\n",
       "      <td>23.000</td>\n",
       "      <td>94.000</td>\n",
       "      <td>28.100</td>\n",
       "      <td>0.167</td>\n",
       "      <td>21</td>\n",
       "      <td>0</td>\n",
       "      <td>1</td>\n",
       "      <td>646.300</td>\n",
       "      <td>789.610</td>\n",
       "    </tr>\n",
       "    <tr>\n",
       "      <th>4</th>\n",
       "      <td>0</td>\n",
       "      <td>137.000</td>\n",
       "      <td>40.000</td>\n",
       "      <td>35.000</td>\n",
       "      <td>168.000</td>\n",
       "      <td>43.100</td>\n",
       "      <td>2.288</td>\n",
       "      <td>33</td>\n",
       "      <td>1</td>\n",
       "      <td>0</td>\n",
       "      <td>1508.500</td>\n",
       "      <td>1857.610</td>\n",
       "    </tr>\n",
       "  </tbody>\n",
       "</table>\n",
       "</div>"
      ],
      "text/plain": [
       "   pregnancies  glucose    dbp  skin_fold  insulin    bmi  pedigree  age  \\\n",
       "0            6  148.000 72.000     35.000      nan 33.600     0.627   50   \n",
       "1            1   85.000 66.000     29.000      nan 26.600     0.351   31   \n",
       "2            8  183.000 64.000        nan      nan 23.300     0.672   32   \n",
       "3            1   89.000 66.000     23.000   94.000 28.100     0.167   21   \n",
       "4            0  137.000 40.000     35.000  168.000 43.100     2.288   33   \n",
       "\n",
       "   diabetic  pregnancies2  skin_bmi     bmi2  \n",
       "0         1            36  1176.000 1128.960  \n",
       "1         0             1   771.400  707.560  \n",
       "2         1            64       nan  542.890  \n",
       "3         0             1   646.300  789.610  \n",
       "4         1             0  1508.500 1857.610  "
      ]
     },
     "execution_count": 64,
     "metadata": {},
     "output_type": "execute_result"
    }
   ],
   "source": [
    "pima_diabetes.head()"
   ]
  },
  {
   "cell_type": "markdown",
   "metadata": {},
   "source": [
    "### Summary statistics"
   ]
  },
  {
   "cell_type": "code",
   "execution_count": 65,
   "metadata": {
    "collapsed": false
   },
   "outputs": [
    {
     "data": {
      "text/html": [
       "<div>\n",
       "<table border=\"1\" class=\"dataframe\">\n",
       "  <thead>\n",
       "    <tr style=\"text-align: right;\">\n",
       "      <th></th>\n",
       "      <th>pregnancies</th>\n",
       "      <th>glucose</th>\n",
       "      <th>dbp</th>\n",
       "      <th>skin_fold</th>\n",
       "      <th>insulin</th>\n",
       "      <th>bmi</th>\n",
       "      <th>pedigree</th>\n",
       "      <th>age</th>\n",
       "      <th>diabetic</th>\n",
       "      <th>pregnancies2</th>\n",
       "      <th>skin_bmi</th>\n",
       "      <th>bmi2</th>\n",
       "    </tr>\n",
       "  </thead>\n",
       "  <tbody>\n",
       "    <tr>\n",
       "      <th>count</th>\n",
       "      <td>768.000</td>\n",
       "      <td>763.000</td>\n",
       "      <td>733.000</td>\n",
       "      <td>541.000</td>\n",
       "      <td>394.000</td>\n",
       "      <td>757.000</td>\n",
       "      <td>768.000</td>\n",
       "      <td>768.000</td>\n",
       "      <td>768.000</td>\n",
       "      <td>768.000</td>\n",
       "      <td>539.000</td>\n",
       "      <td>757.000</td>\n",
       "    </tr>\n",
       "    <tr>\n",
       "      <th>mean</th>\n",
       "      <td>3.845</td>\n",
       "      <td>121.687</td>\n",
       "      <td>72.405</td>\n",
       "      <td>29.153</td>\n",
       "      <td>155.548</td>\n",
       "      <td>32.457</td>\n",
       "      <td>0.472</td>\n",
       "      <td>33.241</td>\n",
       "      <td>0.349</td>\n",
       "      <td>26.124</td>\n",
       "      <td>1006.413</td>\n",
       "      <td>1101.379</td>\n",
       "    </tr>\n",
       "    <tr>\n",
       "      <th>std</th>\n",
       "      <td>3.370</td>\n",
       "      <td>30.536</td>\n",
       "      <td>12.382</td>\n",
       "      <td>10.477</td>\n",
       "      <td>118.776</td>\n",
       "      <td>6.925</td>\n",
       "      <td>0.331</td>\n",
       "      <td>11.760</td>\n",
       "      <td>0.477</td>\n",
       "      <td>38.438</td>\n",
       "      <td>516.695</td>\n",
       "      <td>483.909</td>\n",
       "    </tr>\n",
       "    <tr>\n",
       "      <th>min</th>\n",
       "      <td>0.000</td>\n",
       "      <td>44.000</td>\n",
       "      <td>24.000</td>\n",
       "      <td>7.000</td>\n",
       "      <td>14.000</td>\n",
       "      <td>18.200</td>\n",
       "      <td>0.078</td>\n",
       "      <td>21.000</td>\n",
       "      <td>0.000</td>\n",
       "      <td>0.000</td>\n",
       "      <td>137.200</td>\n",
       "      <td>331.240</td>\n",
       "    </tr>\n",
       "    <tr>\n",
       "      <th>25%</th>\n",
       "      <td>1.000</td>\n",
       "      <td>99.000</td>\n",
       "      <td>64.000</td>\n",
       "      <td>22.000</td>\n",
       "      <td>76.250</td>\n",
       "      <td>27.500</td>\n",
       "      <td>0.244</td>\n",
       "      <td>24.000</td>\n",
       "      <td>0.000</td>\n",
       "      <td>1.000</td>\n",
       "      <td>613.800</td>\n",
       "      <td>756.250</td>\n",
       "    </tr>\n",
       "    <tr>\n",
       "      <th>50%</th>\n",
       "      <td>3.000</td>\n",
       "      <td>117.000</td>\n",
       "      <td>72.000</td>\n",
       "      <td>29.000</td>\n",
       "      <td>125.000</td>\n",
       "      <td>32.300</td>\n",
       "      <td>0.372</td>\n",
       "      <td>29.000</td>\n",
       "      <td>0.000</td>\n",
       "      <td>9.000</td>\n",
       "      <td>938.600</td>\n",
       "      <td>1043.290</td>\n",
       "    </tr>\n",
       "    <tr>\n",
       "      <th>75%</th>\n",
       "      <td>6.000</td>\n",
       "      <td>141.000</td>\n",
       "      <td>80.000</td>\n",
       "      <td>36.000</td>\n",
       "      <td>190.000</td>\n",
       "      <td>36.600</td>\n",
       "      <td>0.626</td>\n",
       "      <td>41.000</td>\n",
       "      <td>1.000</td>\n",
       "      <td>36.000</td>\n",
       "      <td>1323.200</td>\n",
       "      <td>1339.560</td>\n",
       "    </tr>\n",
       "    <tr>\n",
       "      <th>max</th>\n",
       "      <td>17.000</td>\n",
       "      <td>199.000</td>\n",
       "      <td>122.000</td>\n",
       "      <td>99.000</td>\n",
       "      <td>846.000</td>\n",
       "      <td>67.100</td>\n",
       "      <td>2.420</td>\n",
       "      <td>81.000</td>\n",
       "      <td>1.000</td>\n",
       "      <td>289.000</td>\n",
       "      <td>3742.200</td>\n",
       "      <td>4502.410</td>\n",
       "    </tr>\n",
       "  </tbody>\n",
       "</table>\n",
       "</div>"
      ],
      "text/plain": [
       "       pregnancies  glucose     dbp  skin_fold  insulin     bmi  pedigree  \\\n",
       "count      768.000  763.000 733.000    541.000  394.000 757.000   768.000   \n",
       "mean         3.845  121.687  72.405     29.153  155.548  32.457     0.472   \n",
       "std          3.370   30.536  12.382     10.477  118.776   6.925     0.331   \n",
       "min          0.000   44.000  24.000      7.000   14.000  18.200     0.078   \n",
       "25%          1.000   99.000  64.000     22.000   76.250  27.500     0.244   \n",
       "50%          3.000  117.000  72.000     29.000  125.000  32.300     0.372   \n",
       "75%          6.000  141.000  80.000     36.000  190.000  36.600     0.626   \n",
       "max         17.000  199.000 122.000     99.000  846.000  67.100     2.420   \n",
       "\n",
       "          age  diabetic  pregnancies2  skin_bmi     bmi2  \n",
       "count 768.000   768.000       768.000   539.000  757.000  \n",
       "mean   33.241     0.349        26.124  1006.413 1101.379  \n",
       "std    11.760     0.477        38.438   516.695  483.909  \n",
       "min    21.000     0.000         0.000   137.200  331.240  \n",
       "25%    24.000     0.000         1.000   613.800  756.250  \n",
       "50%    29.000     0.000         9.000   938.600 1043.290  \n",
       "75%    41.000     1.000        36.000  1323.200 1339.560  \n",
       "max    81.000     1.000       289.000  3742.200 4502.410  "
      ]
     },
     "execution_count": 65,
     "metadata": {},
     "output_type": "execute_result"
    }
   ],
   "source": [
    "pima_diabetes.describe()"
   ]
  },
  {
   "cell_type": "code",
   "execution_count": 66,
   "metadata": {
    "collapsed": false
   },
   "outputs": [
    {
     "name": "stdout",
     "output_type": "stream",
     "text": [
      "<class 'pandas.core.frame.DataFrame'>\n",
      "Int64Index: 768 entries, 0 to 767\n",
      "Data columns (total 12 columns):\n",
      "pregnancies     768 non-null int64\n",
      "glucose         763 non-null float64\n",
      "dbp             733 non-null float64\n",
      "skin_fold       541 non-null float64\n",
      "insulin         394 non-null float64\n",
      "bmi             757 non-null float64\n",
      "pedigree        768 non-null float64\n",
      "age             768 non-null int64\n",
      "diabetic        768 non-null int64\n",
      "pregnancies2    768 non-null int64\n",
      "skin_bmi        539 non-null float64\n",
      "bmi2            757 non-null float64\n",
      "dtypes: float64(8), int64(4)\n",
      "memory usage: 78.0 KB\n"
     ]
    }
   ],
   "source": [
    "pima_diabetes.info()"
   ]
  },
  {
   "cell_type": "code",
   "execution_count": 67,
   "metadata": {
    "collapsed": false
   },
   "outputs": [
    {
     "data": {
      "text/html": [
       "<div>\n",
       "<table border=\"1\" class=\"dataframe\">\n",
       "  <thead>\n",
       "    <tr style=\"text-align: right;\">\n",
       "      <th></th>\n",
       "      <th>pregnancies</th>\n",
       "      <th>glucose</th>\n",
       "      <th>dbp</th>\n",
       "      <th>skin_fold</th>\n",
       "      <th>insulin</th>\n",
       "      <th>bmi</th>\n",
       "      <th>pedigree</th>\n",
       "      <th>age</th>\n",
       "      <th>diabetic</th>\n",
       "      <th>pregnancies2</th>\n",
       "      <th>skin_bmi</th>\n",
       "      <th>bmi2</th>\n",
       "    </tr>\n",
       "  </thead>\n",
       "  <tbody>\n",
       "    <tr>\n",
       "      <th>pregnancies</th>\n",
       "      <td>1.000</td>\n",
       "      <td>0.128</td>\n",
       "      <td>0.214</td>\n",
       "      <td>0.100</td>\n",
       "      <td>0.082</td>\n",
       "      <td>0.022</td>\n",
       "      <td>-0.034</td>\n",
       "      <td>0.544</td>\n",
       "      <td>0.222</td>\n",
       "      <td>0.940</td>\n",
       "      <td>0.045</td>\n",
       "      <td>0.000</td>\n",
       "    </tr>\n",
       "    <tr>\n",
       "      <th>glucose</th>\n",
       "      <td>0.128</td>\n",
       "      <td>1.000</td>\n",
       "      <td>0.223</td>\n",
       "      <td>0.228</td>\n",
       "      <td>0.581</td>\n",
       "      <td>0.233</td>\n",
       "      <td>0.137</td>\n",
       "      <td>0.267</td>\n",
       "      <td>0.495</td>\n",
       "      <td>0.114</td>\n",
       "      <td>0.245</td>\n",
       "      <td>0.220</td>\n",
       "    </tr>\n",
       "    <tr>\n",
       "      <th>dbp</th>\n",
       "      <td>0.214</td>\n",
       "      <td>0.223</td>\n",
       "      <td>1.000</td>\n",
       "      <td>0.227</td>\n",
       "      <td>0.098</td>\n",
       "      <td>0.289</td>\n",
       "      <td>-0.003</td>\n",
       "      <td>0.330</td>\n",
       "      <td>0.171</td>\n",
       "      <td>0.207</td>\n",
       "      <td>0.278</td>\n",
       "      <td>0.292</td>\n",
       "    </tr>\n",
       "    <tr>\n",
       "      <th>skin_fold</th>\n",
       "      <td>0.100</td>\n",
       "      <td>0.228</td>\n",
       "      <td>0.227</td>\n",
       "      <td>1.000</td>\n",
       "      <td>0.185</td>\n",
       "      <td>0.648</td>\n",
       "      <td>0.115</td>\n",
       "      <td>0.167</td>\n",
       "      <td>0.259</td>\n",
       "      <td>0.120</td>\n",
       "      <td>0.935</td>\n",
       "      <td>0.620</td>\n",
       "    </tr>\n",
       "    <tr>\n",
       "      <th>insulin</th>\n",
       "      <td>0.082</td>\n",
       "      <td>0.581</td>\n",
       "      <td>0.098</td>\n",
       "      <td>0.185</td>\n",
       "      <td>1.000</td>\n",
       "      <td>0.228</td>\n",
       "      <td>0.130</td>\n",
       "      <td>0.220</td>\n",
       "      <td>0.303</td>\n",
       "      <td>0.057</td>\n",
       "      <td>0.200</td>\n",
       "      <td>0.206</td>\n",
       "    </tr>\n",
       "    <tr>\n",
       "      <th>bmi</th>\n",
       "      <td>0.022</td>\n",
       "      <td>0.233</td>\n",
       "      <td>0.289</td>\n",
       "      <td>0.648</td>\n",
       "      <td>0.228</td>\n",
       "      <td>1.000</td>\n",
       "      <td>0.155</td>\n",
       "      <td>0.026</td>\n",
       "      <td>0.314</td>\n",
       "      <td>0.064</td>\n",
       "      <td>0.849</td>\n",
       "      <td>0.988</td>\n",
       "    </tr>\n",
       "    <tr>\n",
       "      <th>pedigree</th>\n",
       "      <td>-0.034</td>\n",
       "      <td>0.137</td>\n",
       "      <td>-0.003</td>\n",
       "      <td>0.115</td>\n",
       "      <td>0.130</td>\n",
       "      <td>0.155</td>\n",
       "      <td>1.000</td>\n",
       "      <td>0.034</td>\n",
       "      <td>0.174</td>\n",
       "      <td>-0.009</td>\n",
       "      <td>0.163</td>\n",
       "      <td>0.157</td>\n",
       "    </tr>\n",
       "    <tr>\n",
       "      <th>age</th>\n",
       "      <td>0.544</td>\n",
       "      <td>0.267</td>\n",
       "      <td>0.330</td>\n",
       "      <td>0.167</td>\n",
       "      <td>0.220</td>\n",
       "      <td>0.026</td>\n",
       "      <td>0.034</td>\n",
       "      <td>1.000</td>\n",
       "      <td>0.238</td>\n",
       "      <td>0.487</td>\n",
       "      <td>0.120</td>\n",
       "      <td>0.011</td>\n",
       "    </tr>\n",
       "    <tr>\n",
       "      <th>diabetic</th>\n",
       "      <td>0.222</td>\n",
       "      <td>0.495</td>\n",
       "      <td>0.171</td>\n",
       "      <td>0.259</td>\n",
       "      <td>0.303</td>\n",
       "      <td>0.314</td>\n",
       "      <td>0.174</td>\n",
       "      <td>0.238</td>\n",
       "      <td>1.000</td>\n",
       "      <td>0.219</td>\n",
       "      <td>0.292</td>\n",
       "      <td>0.298</td>\n",
       "    </tr>\n",
       "    <tr>\n",
       "      <th>pregnancies2</th>\n",
       "      <td>0.940</td>\n",
       "      <td>0.114</td>\n",
       "      <td>0.207</td>\n",
       "      <td>0.120</td>\n",
       "      <td>0.057</td>\n",
       "      <td>0.064</td>\n",
       "      <td>-0.009</td>\n",
       "      <td>0.487</td>\n",
       "      <td>0.219</td>\n",
       "      <td>1.000</td>\n",
       "      <td>0.088</td>\n",
       "      <td>0.048</td>\n",
       "    </tr>\n",
       "    <tr>\n",
       "      <th>skin_bmi</th>\n",
       "      <td>0.045</td>\n",
       "      <td>0.245</td>\n",
       "      <td>0.278</td>\n",
       "      <td>0.935</td>\n",
       "      <td>0.200</td>\n",
       "      <td>0.849</td>\n",
       "      <td>0.163</td>\n",
       "      <td>0.120</td>\n",
       "      <td>0.292</td>\n",
       "      <td>0.088</td>\n",
       "      <td>1.000</td>\n",
       "      <td>0.844</td>\n",
       "    </tr>\n",
       "    <tr>\n",
       "      <th>bmi2</th>\n",
       "      <td>0.000</td>\n",
       "      <td>0.220</td>\n",
       "      <td>0.292</td>\n",
       "      <td>0.620</td>\n",
       "      <td>0.206</td>\n",
       "      <td>0.988</td>\n",
       "      <td>0.157</td>\n",
       "      <td>0.011</td>\n",
       "      <td>0.298</td>\n",
       "      <td>0.048</td>\n",
       "      <td>0.844</td>\n",
       "      <td>1.000</td>\n",
       "    </tr>\n",
       "  </tbody>\n",
       "</table>\n",
       "</div>"
      ],
      "text/plain": [
       "              pregnancies  glucose    dbp  skin_fold  insulin   bmi  pedigree  \\\n",
       "pregnancies         1.000    0.128  0.214      0.100    0.082 0.022    -0.034   \n",
       "glucose             0.128    1.000  0.223      0.228    0.581 0.233     0.137   \n",
       "dbp                 0.214    0.223  1.000      0.227    0.098 0.289    -0.003   \n",
       "skin_fold           0.100    0.228  0.227      1.000    0.185 0.648     0.115   \n",
       "insulin             0.082    0.581  0.098      0.185    1.000 0.228     0.130   \n",
       "bmi                 0.022    0.233  0.289      0.648    0.228 1.000     0.155   \n",
       "pedigree           -0.034    0.137 -0.003      0.115    0.130 0.155     1.000   \n",
       "age                 0.544    0.267  0.330      0.167    0.220 0.026     0.034   \n",
       "diabetic            0.222    0.495  0.171      0.259    0.303 0.314     0.174   \n",
       "pregnancies2        0.940    0.114  0.207      0.120    0.057 0.064    -0.009   \n",
       "skin_bmi            0.045    0.245  0.278      0.935    0.200 0.849     0.163   \n",
       "bmi2                0.000    0.220  0.292      0.620    0.206 0.988     0.157   \n",
       "\n",
       "               age  diabetic  pregnancies2  skin_bmi  bmi2  \n",
       "pregnancies  0.544     0.222         0.940     0.045 0.000  \n",
       "glucose      0.267     0.495         0.114     0.245 0.220  \n",
       "dbp          0.330     0.171         0.207     0.278 0.292  \n",
       "skin_fold    0.167     0.259         0.120     0.935 0.620  \n",
       "insulin      0.220     0.303         0.057     0.200 0.206  \n",
       "bmi          0.026     0.314         0.064     0.849 0.988  \n",
       "pedigree     0.034     0.174        -0.009     0.163 0.157  \n",
       "age          1.000     0.238         0.487     0.120 0.011  \n",
       "diabetic     0.238     1.000         0.219     0.292 0.298  \n",
       "pregnancies2 0.487     0.219         1.000     0.088 0.048  \n",
       "skin_bmi     0.120     0.292         0.088     1.000 0.844  \n",
       "bmi2         0.011     0.298         0.048     0.844 1.000  "
      ]
     },
     "execution_count": 67,
     "metadata": {},
     "output_type": "execute_result"
    }
   ],
   "source": [
    "pima_diabetes.corr()"
   ]
  },
  {
   "cell_type": "markdown",
   "metadata": {},
   "source": [
    "## Create four datasets for different screening strategies"
   ]
  },
  {
   "cell_type": "code",
   "execution_count": 68,
   "metadata": {
    "collapsed": false
   },
   "outputs": [
    {
     "data": {
      "text/plain": [
       "673    0\n",
       "424    1\n",
       "749    1\n",
       "430    0\n",
       "291    1\n",
       "Name: diabetic, dtype: int64"
      ]
     },
     "execution_count": 68,
     "metadata": {},
     "output_type": "execute_result"
    }
   ],
   "source": [
    "from sklearn.cross_validation import train_test_split\n",
    "from sklearn.preprocessing import StandardScaler\n",
    "\n",
    "# experiment w dropping low importance variables\n",
    "pima_diabetes_copy = pima_diabetes.drop(['pregnancies', 'dbp'], axis=1)\n",
    "\n",
    "# standardization: bring all of our features onto the same scale\n",
    "stdsc = StandardScaler()\n",
    "\n",
    "pima_neither = pima_diabetes_copy.drop(['glucose', 'insulin'], axis=1)\n",
    "# the dropped rows may bias the means - use means from this particular dataset \n",
    "pima_neither = pima_neither.fillna(pima_neither.mean())\n",
    "X_neither_std = stdsc.fit_transform(pima_neither.drop('diabetic', axis=1))\n",
    "X_train_neither, X_test_neither, y_train_neither, y_test_neither = train_test_split(\n",
    "    X_neither_std, pima_neither['diabetic'],\n",
    "    test_size=0.2, random_state=7)\n",
    "\n",
    "pima_glucose = pima_diabetes_copy.drop('insulin', axis=1).dropna(subset=['glucose'])\n",
    "# the dropped rows may bias the means - use means from this particular dataset \n",
    "pima_glucose = pima_glucose.fillna(pima_glucose.mean())\n",
    "pima_glucose_std = stdsc.fit_transform(pima_glucose)\n",
    "X_glucose_std = stdsc.fit_transform(pima_glucose.drop('diabetic', axis=1))\n",
    "X_train_glucose, X_test_glucose, y_train_glucose, y_test_glucose = train_test_split(\n",
    "    X_glucose_std, pima_glucose['diabetic'], \n",
    "    test_size=0.2, random_state=7)\n",
    "\n",
    "pima_insulin = pima_diabetes_copy.drop('glucose', axis=1).dropna(subset=['insulin'])\n",
    "# the dropped rows may bias the means - use means from this particular dataset \n",
    "pima_insulin = pima_insulin.fillna(pima_insulin.mean())\n",
    "pima_insulin_std = stdsc.fit_transform(pima_insulin)\n",
    "X_insulin_std = stdsc.fit_transform(pima_insulin.drop('diabetic', axis=1))\n",
    "X_train_insulin, X_test_insulin, y_train_insulin, y_test_insulin = train_test_split(\n",
    "    X_insulin_std, pima_insulin['diabetic'], \n",
    "    test_size=0.2, random_state=7)\n",
    "\n",
    "pima_both = pima_diabetes_copy.dropna(subset = ['insulin', 'glucose'], how = 'any')\n",
    "# the dropped rows may bias the means - use means from this particular dataset \n",
    "pima_both = pima_both.fillna(pima_both.mean())\n",
    "pima_both_std = stdsc.fit_transform(pima_both)\n",
    "X_both_std = stdsc.fit_transform(pima_both.drop('diabetic', axis=1))\n",
    "X_train_both, X_test_both, y_train_both, y_test_both = train_test_split(\n",
    "    X_both_std, pima_both['diabetic'], \n",
    "    test_size=0.2, random_state=7)\n",
    "\n",
    "pima_both_start = pima_diabetes.dropna(subset = ['insulin', 'glucose'], how = 'any')\n",
    "# the dropped rows may bias the means - use means from this particular dataset \n",
    "pima_both_start = pima_both_start.fillna(pima_both_start.mean())\n",
    "pima_both_start_std = stdsc.fit_transform(pima_both_start)\n",
    "X_both_start_std = stdsc.fit_transform(pima_both_start.drop('diabetic', axis=1))\n",
    "X_train_both_start, X_test_both_start, y_train_both_start, y_test_both_start = train_test_split(\n",
    "    X_both_start_std, pima_both_start['diabetic'], \n",
    "    test_size=0.2, random_state=7)\n",
    "\n",
    "y_train_glucose.head()"
   ]
  },
  {
   "cell_type": "code",
   "execution_count": 69,
   "metadata": {
    "collapsed": false
   },
   "outputs": [
    {
     "data": {
      "text/plain": [
       "(314, 9)"
      ]
     },
     "execution_count": 69,
     "metadata": {},
     "output_type": "execute_result"
    }
   ],
   "source": [
    "X_train_both.shape"
   ]
  },
  {
   "cell_type": "code",
   "execution_count": 70,
   "metadata": {
    "collapsed": false
   },
   "outputs": [
    {
     "data": {
      "text/plain": [
       "(314,)"
      ]
     },
     "execution_count": 70,
     "metadata": {},
     "output_type": "execute_result"
    }
   ],
   "source": [
    "y_train_both.shape"
   ]
  },
  {
   "cell_type": "markdown",
   "metadata": {},
   "source": [
    "### Find minimum accuracy for the data sets used in testing each strategy"
   ]
  },
  {
   "cell_type": "code",
   "execution_count": 71,
   "metadata": {
    "collapsed": false
   },
   "outputs": [
    {
     "data": {
      "text/plain": [
       "0   0.630\n",
       "1   0.370\n",
       "Name: diabetic, dtype: float64"
      ]
     },
     "execution_count": 71,
     "metadata": {},
     "output_type": "execute_result"
    }
   ],
   "source": [
    "# how many have diabetes?\n",
    "y_test_neither.value_counts() / y_test_neither.shape[0]"
   ]
  },
  {
   "cell_type": "code",
   "execution_count": 72,
   "metadata": {
    "collapsed": false
   },
   "outputs": [
    {
     "data": {
      "text/plain": [
       "0   0.641\n",
       "1   0.359\n",
       "Name: diabetic, dtype: float64"
      ]
     },
     "execution_count": 72,
     "metadata": {},
     "output_type": "execute_result"
    }
   ],
   "source": [
    "# how many have diabetes?\n",
    "y_test_glucose.value_counts() / y_test_glucose.shape[0]"
   ]
  },
  {
   "cell_type": "code",
   "execution_count": 73,
   "metadata": {
    "collapsed": false
   },
   "outputs": [
    {
     "data": {
      "text/plain": [
       "0   0.671\n",
       "1   0.329\n",
       "Name: diabetic, dtype: float64"
      ]
     },
     "execution_count": 73,
     "metadata": {},
     "output_type": "execute_result"
    }
   ],
   "source": [
    "# how many have diabetes?\n",
    "y_test_insulin.value_counts() / y_test_insulin.shape[0]"
   ]
  },
  {
   "cell_type": "code",
   "execution_count": 74,
   "metadata": {
    "collapsed": false
   },
   "outputs": [
    {
     "data": {
      "text/plain": [
       "0   0.608\n",
       "1   0.392\n",
       "Name: diabetic, dtype: float64"
      ]
     },
     "execution_count": 74,
     "metadata": {},
     "output_type": "execute_result"
    }
   ],
   "source": [
    "# how many have diabetes?\n",
    "y_test_both.value_counts() / y_test_both.shape[0]"
   ]
  },
  {
   "cell_type": "markdown",
   "metadata": {},
   "source": [
    "## Visualize data"
   ]
  },
  {
   "cell_type": "code",
   "execution_count": 75,
   "metadata": {
    "collapsed": false
   },
   "outputs": [
    {
     "ename": "NameError",
     "evalue": "name 'sns' is not defined",
     "output_type": "error",
     "traceback": [
      "\u001b[0;31m---------------------------------------------------------------------------\u001b[0m",
      "\u001b[0;31mNameError\u001b[0m                                 Traceback (most recent call last)",
      "\u001b[0;32m<ipython-input-75-667b731d2bb5>\u001b[0m in \u001b[0;36m<module>\u001b[0;34m()\u001b[0m\n\u001b[0;32m----> 1\u001b[0;31m \u001b[0mg\u001b[0m \u001b[0;34m=\u001b[0m \u001b[0msns\u001b[0m\u001b[0;34m.\u001b[0m\u001b[0mpairplot\u001b[0m\u001b[0;34m(\u001b[0m\u001b[0mpima_neither\u001b[0m\u001b[0;34m,\u001b[0m \u001b[0mhue\u001b[0m\u001b[0;34m=\u001b[0m\u001b[0;34m\"diabetic\"\u001b[0m\u001b[0;34m,\u001b[0m \u001b[0mpalette\u001b[0m\u001b[0;34m=\u001b[0m\u001b[0;34m\"Set2\"\u001b[0m\u001b[0;34m,\u001b[0m \u001b[0mdiag_kind\u001b[0m\u001b[0;34m=\u001b[0m\u001b[0;34m\"kde\"\u001b[0m\u001b[0;34m,\u001b[0m \u001b[0msize\u001b[0m\u001b[0;34m=\u001b[0m\u001b[0;36m2.5\u001b[0m\u001b[0;34m)\u001b[0m\u001b[0;34m\u001b[0m\u001b[0m\n\u001b[0m",
      "\u001b[0;31mNameError\u001b[0m: name 'sns' is not defined"
     ]
    }
   ],
   "source": [
    "g = sns.pairplot(pima_neither, hue=\"diabetic\", palette=\"Set2\", diag_kind=\"kde\", size=2.5)"
   ]
  },
  {
   "cell_type": "code",
   "execution_count": null,
   "metadata": {
    "collapsed": false
   },
   "outputs": [],
   "source": [
    "sns.factorplot(x='diabetic', \n",
    "               y='bmi',\n",
    "               kind='bar',\n",
    "              data = pima_neither)"
   ]
  },
  {
   "cell_type": "code",
   "execution_count": null,
   "metadata": {
    "collapsed": false
   },
   "outputs": [],
   "source": [
    "sns.factorplot(x='diabetic', \n",
    "               y='glucose',\n",
    "               kind='bar',\n",
    "              data = pima_glucose)"
   ]
  },
  {
   "cell_type": "code",
   "execution_count": null,
   "metadata": {
    "collapsed": false
   },
   "outputs": [],
   "source": [
    "sns.factorplot(x='diabetic', \n",
    "               y='age',\n",
    "               kind='bar',\n",
    "              data = pima_neither)"
   ]
  },
  {
   "cell_type": "markdown",
   "metadata": {},
   "source": [
    "## Build predictions for each model"
   ]
  },
  {
   "cell_type": "markdown",
   "metadata": {},
   "source": [
    "### kNN"
   ]
  },
  {
   "cell_type": "code",
   "execution_count": null,
   "metadata": {
    "collapsed": false
   },
   "outputs": [],
   "source": [
    "# %%timeit # times cell\n",
    "# 10 cross validation iterations with 20% test / 80% train\n",
    "from sklearn.cross_validation import ShuffleSplit\n",
    "cv = ShuffleSplit(X_train_both.shape[0], n_iter=10, test_size=0.2, random_state=0)\n",
    "# k nearest neighbors\n",
    "from sklearn.neighbors import KNeighborsClassifier\n",
    "# starting with k=1\n",
    "# this creates the classifier\n",
    "knn = KNeighborsClassifier(n_neighbors=1, weights='uniform', p=2)\n",
    "# execute this to fit the classifier to our data\n",
    "# knn.fit(X_no_tests, y_no_tests)\n",
    "# execute this to predict the labels for our \"unseen\" test data\n",
    "# knn.predict(test)\n",
    "\n",
    "# gridsearch for hyperparameters\n",
    "from sklearn.grid_search import GridSearchCV\n",
    "# the parameters we want to search in a dictionary\n",
    "# use the parameter name from sklearn as the key\n",
    "# and the possible values you want to test as the values\n",
    "parameters = {'n_neighbors': range(1,30), 'weights': ['uniform', 'distance'],\n",
    "             'p': range(1,4)}\n",
    "clf = GridSearchCV(knn, parameters, cv=cv)\n",
    "clf.fit(X_train_both, y_train_both)\n",
    "# get a list of all the combo scores\n",
    "clf.best_params_"
   ]
  },
  {
   "cell_type": "markdown",
   "metadata": {},
   "source": [
    "### Naive Bayes"
   ]
  },
  {
   "cell_type": "code",
   "execution_count": null,
   "metadata": {
    "collapsed": false
   },
   "outputs": [],
   "source": [
    "from sklearn.naive_bayes import GaussianNB\n",
    "nb = GaussianNB()\n",
    "nb.fit(X_train_neither, y_train_neither)\n",
    "# nb.fit(pima_neither.drop(['diabetic'],axis = 1), pima_neither['diabetic'])"
   ]
  },
  {
   "cell_type": "markdown",
   "metadata": {},
   "source": [
    "### Logistic regression"
   ]
  },
  {
   "cell_type": "code",
   "execution_count": null,
   "metadata": {
    "collapsed": false
   },
   "outputs": [],
   "source": [
    "from sklearn.linear_model import LogisticRegression\n",
    "logreg = LogisticRegression(C=1.0, penalty='l2', tol=1e-6)\n",
    "logreg.fit(X_train_both, y_train_both)\n",
    "logreg.coef_\n",
    "parameters = {'C': np.linspace(1e-5, 10, 100), 'penalty': ['l1', 'l2']}\n",
    "logreg2 = LogisticRegression()           \n",
    "clf = GridSearchCV(logreg, parameters, cv=cv)\n",
    "clf.fit(X_train_both, y_train_both)\n",
    "clf.best_params_"
   ]
  },
  {
   "cell_type": "markdown",
   "metadata": {},
   "source": [
    "### Random forest"
   ]
  },
  {
   "cell_type": "code",
   "execution_count": null,
   "metadata": {
    "collapsed": false
   },
   "outputs": [],
   "source": [
    "from sklearn.ensemble import RandomForestClassifier\n",
    "\n",
    "model = RandomForestClassifier(n_estimators = 20)\n",
    "    \n",
    "model.fit(X_train_both, y_train_both)\n",
    "\n",
    "parameters = {'n_estimators': range(1,40)}\n",
    "clf = GridSearchCV(model, parameters, cv=cv)\n",
    "clf.fit(X_train_both, y_train_both)\n",
    "clf.best_params_"
   ]
  },
  {
   "cell_type": "markdown",
   "metadata": {},
   "source": [
    "## Importance scores for original and added fields "
   ]
  },
  {
   "cell_type": "code",
   "execution_count": null,
   "metadata": {
    "collapsed": false
   },
   "outputs": [],
   "source": [
    "rf_start = RandomForestClassifier(n_estimators = 20)\n",
    "    \n",
    "rf_start.fit(X_train_both_start, y_train_both_start)\n",
    "features = pima_both_start.drop('diabetic', axis=1).columns\n",
    "feature_importances = rf_start.feature_importances_\n",
    "\n",
    "features_df = pd.DataFrame({'Features': features, 'Importance Score': feature_importances})\n",
    "features_df.sort_values('Importance Score', inplace=True, ascending=False)\n",
    "\n",
    "features_df"
   ]
  },
  {
   "cell_type": "markdown",
   "metadata": {},
   "source": [
    "## Add clustering to data sets"
   ]
  },
  {
   "cell_type": "code",
   "execution_count": null,
   "metadata": {
    "collapsed": false
   },
   "outputs": [],
   "source": [
    "scale = StandardScaler()\n",
    "# fit and transform in one step\n",
    "X_train_neither_scale = scale.fit_transform(X_train_neither)\n",
    "from sklearn.cluster import KMeans\n",
    "\n",
    "from sklearn.metrics import silhouette_score\n",
    "x = []\n",
    "y = []\n",
    "for n in range(2,15):\n",
    "    km2 = KMeans(n_clusters=n)\n",
    "    centers = km2.fit_predict(X_train_neither_scale)\n",
    "    x.append(n)\n",
    "    y.append(silhouette_score(X_train_neither_scale, centers))\n",
    "plt.plot(x, y)"
   ]
  },
  {
   "cell_type": "code",
   "execution_count": null,
   "metadata": {
    "collapsed": true
   },
   "outputs": [],
   "source": [
    "\n",
    "# get the cluster centers in the original scale\n",
    "# this means you will have k cluster centers\n",
    "# we pick k=5 based on elbow method\n",
    "km = KMeans(n_clusters=5, n_init=20)\n",
    "km.fit(X_scale)\n",
    "pd.set_option('display.float_format', lambda x: '%.3f' % x)\n",
    "columns = {str(x): scale.inverse_transform(km.cluster_centers_[x]) for x in range(0,len(km.cluster_centers_))}\n",
    "pd.DataFrame(columns, index=example.columns)"
   ]
  },
  {
   "cell_type": "code",
   "execution_count": null,
   "metadata": {
    "collapsed": false
   },
   "outputs": [],
   "source": [
    "from sklearn.cluster import KMeans\n",
    "\n",
    "from sklearn.metrics import silhouette_score\n",
    "x = []\n",
    "y = []\n",
    "for n in range(2,15):\n",
    "    km2 = KMeans(n_clusters=n)\n",
    "    centers = km2.fit_predict(X_train_glucose)\n",
    "    x.append(n)\n",
    "    y.append(silhouette_score(X_train_glucose, centers))\n",
    "plt.plot(x, y)"
   ]
  },
  {
   "cell_type": "code",
   "execution_count": null,
   "metadata": {
    "collapsed": false
   },
   "outputs": [],
   "source": [
    "X_train_glucose.shape"
   ]
  },
  {
   "cell_type": "code",
   "execution_count": null,
   "metadata": {
    "collapsed": true
   },
   "outputs": [],
   "source": []
  },
  {
   "cell_type": "code",
   "execution_count": null,
   "metadata": {
    "collapsed": false
   },
   "outputs": [],
   "source": [
    "\n",
    "# get the cluster centers in the original scale\n",
    "# this means you will have k cluster centers\n",
    "# we pick k=3\n",
    "km = KMeans(n_clusters=3, n_init=20)\n",
    "km.fit(X_train_glucose)\n",
    "\n",
    "km.cluster_centers_\n",
    "#pd.set_option('display.float_format', lambda x: '%.3f' % x)\n",
    "#columns = {str(x): scale.inverse_transform(km.cluster_centers_[x]) for x in range(0,len(km.cluster_centers_))}\n",
    "#pd.DataFrame(columns, index=example.columns)"
   ]
  },
  {
   "cell_type": "code",
   "execution_count": 77,
   "metadata": {
    "collapsed": false
   },
   "outputs": [],
   "source": [
    "# X_train_glucose.append(km.predict(X_train_glucose))\n",
    "X_train_glucose = pd.DataFrame(X_train_glucose)\n",
    "X_test_glucose = pd.DataFrame(X_test_glucose)\n",
    "#X_train_glucose['clusters'] = km.predict(X_train_glucose)\n",
    "#X_test_glucose['clusters'] = km.predict(X_test_glucose)"
   ]
  },
  {
   "cell_type": "code",
   "execution_count": 78,
   "metadata": {
    "collapsed": false
   },
   "outputs": [
    {
     "data": {
      "text/html": [
       "<div>\n",
       "<table border=\"1\" class=\"dataframe\">\n",
       "  <thead>\n",
       "    <tr style=\"text-align: right;\">\n",
       "      <th></th>\n",
       "      <th>0</th>\n",
       "      <th>1</th>\n",
       "      <th>2</th>\n",
       "      <th>3</th>\n",
       "      <th>4</th>\n",
       "      <th>5</th>\n",
       "      <th>6</th>\n",
       "      <th>7</th>\n",
       "    </tr>\n",
       "  </thead>\n",
       "  <tbody>\n",
       "    <tr>\n",
       "      <th>0</th>\n",
       "      <td>0.043</td>\n",
       "      <td>0.666</td>\n",
       "      <td>3.614</td>\n",
       "      <td>1.228</td>\n",
       "      <td>-0.958</td>\n",
       "      <td>-0.447</td>\n",
       "      <td>2.310</td>\n",
       "      <td>4.541</td>\n",
       "    </tr>\n",
       "    <tr>\n",
       "      <th>1</th>\n",
       "      <td>0.961</td>\n",
       "      <td>0.324</td>\n",
       "      <td>1.519</td>\n",
       "      <td>0.131</td>\n",
       "      <td>0.232</td>\n",
       "      <td>0.981</td>\n",
       "      <td>0.847</td>\n",
       "      <td>1.538</td>\n",
       "    </tr>\n",
       "    <tr>\n",
       "      <th>2</th>\n",
       "      <td>1.321</td>\n",
       "      <td>0.000</td>\n",
       "      <td>-1.186</td>\n",
       "      <td>-0.888</td>\n",
       "      <td>1.422</td>\n",
       "      <td>0.254</td>\n",
       "      <td>-0.000</td>\n",
       "      <td>-1.063</td>\n",
       "    </tr>\n",
       "    <tr>\n",
       "      <th>3</th>\n",
       "      <td>-0.743</td>\n",
       "      <td>0.000</td>\n",
       "      <td>-1.492</td>\n",
       "      <td>-1.099</td>\n",
       "      <td>-0.873</td>\n",
       "      <td>-0.577</td>\n",
       "      <td>-0.000</td>\n",
       "      <td>-1.266</td>\n",
       "    </tr>\n",
       "    <tr>\n",
       "      <th>4</th>\n",
       "      <td>-0.481</td>\n",
       "      <td>0.097</td>\n",
       "      <td>0.603</td>\n",
       "      <td>0.858</td>\n",
       "      <td>-0.703</td>\n",
       "      <td>-0.681</td>\n",
       "      <td>0.212</td>\n",
       "      <td>0.496</td>\n",
       "    </tr>\n",
       "  </tbody>\n",
       "</table>\n",
       "</div>"
      ],
      "text/plain": [
       "       0     1      2      3      4      5      6      7\n",
       "0  0.043 0.666  3.614  1.228 -0.958 -0.447  2.310  4.541\n",
       "1  0.961 0.324  1.519  0.131  0.232  0.981  0.847  1.538\n",
       "2  1.321 0.000 -1.186 -0.888  1.422  0.254 -0.000 -1.063\n",
       "3 -0.743 0.000 -1.492 -1.099 -0.873 -0.577 -0.000 -1.266\n",
       "4 -0.481 0.097  0.603  0.858 -0.703 -0.681  0.212  0.496"
      ]
     },
     "execution_count": 78,
     "metadata": {},
     "output_type": "execute_result"
    }
   ],
   "source": [
    "X_train_glucose.head()"
   ]
  },
  {
   "cell_type": "code",
   "execution_count": 81,
   "metadata": {
    "collapsed": false
   },
   "outputs": [
    {
     "data": {
      "text/html": [
       "<div>\n",
       "<table border=\"1\" class=\"dataframe\">\n",
       "  <thead>\n",
       "    <tr style=\"text-align: right;\">\n",
       "      <th></th>\n",
       "      <th>0</th>\n",
       "      <th>1</th>\n",
       "      <th>2</th>\n",
       "      <th>3</th>\n",
       "      <th>4</th>\n",
       "      <th>5</th>\n",
       "      <th>6</th>\n",
       "      <th>7</th>\n",
       "      <th>0</th>\n",
       "      <th>1</th>\n",
       "      <th>2</th>\n",
       "    </tr>\n",
       "  </thead>\n",
       "  <tbody>\n",
       "    <tr>\n",
       "      <th>0</th>\n",
       "      <td>0.043</td>\n",
       "      <td>0.666</td>\n",
       "      <td>3.614</td>\n",
       "      <td>1.228</td>\n",
       "      <td>-0.958</td>\n",
       "      <td>-0.447</td>\n",
       "      <td>2.310</td>\n",
       "      <td>4.541</td>\n",
       "      <td>0.000</td>\n",
       "      <td>0.000</td>\n",
       "      <td>1.000</td>\n",
       "    </tr>\n",
       "    <tr>\n",
       "      <th>1</th>\n",
       "      <td>0.961</td>\n",
       "      <td>0.324</td>\n",
       "      <td>1.519</td>\n",
       "      <td>0.131</td>\n",
       "      <td>0.232</td>\n",
       "      <td>0.981</td>\n",
       "      <td>0.847</td>\n",
       "      <td>1.538</td>\n",
       "      <td>0.000</td>\n",
       "      <td>0.000</td>\n",
       "      <td>1.000</td>\n",
       "    </tr>\n",
       "    <tr>\n",
       "      <th>2</th>\n",
       "      <td>1.321</td>\n",
       "      <td>0.000</td>\n",
       "      <td>-1.186</td>\n",
       "      <td>-0.888</td>\n",
       "      <td>1.422</td>\n",
       "      <td>0.254</td>\n",
       "      <td>-0.000</td>\n",
       "      <td>-1.063</td>\n",
       "      <td>1.000</td>\n",
       "      <td>0.000</td>\n",
       "      <td>0.000</td>\n",
       "    </tr>\n",
       "    <tr>\n",
       "      <th>3</th>\n",
       "      <td>-0.743</td>\n",
       "      <td>0.000</td>\n",
       "      <td>-1.492</td>\n",
       "      <td>-1.099</td>\n",
       "      <td>-0.873</td>\n",
       "      <td>-0.577</td>\n",
       "      <td>-0.000</td>\n",
       "      <td>-1.266</td>\n",
       "      <td>0.000</td>\n",
       "      <td>1.000</td>\n",
       "      <td>0.000</td>\n",
       "    </tr>\n",
       "    <tr>\n",
       "      <th>4</th>\n",
       "      <td>-0.481</td>\n",
       "      <td>0.097</td>\n",
       "      <td>0.603</td>\n",
       "      <td>0.858</td>\n",
       "      <td>-0.703</td>\n",
       "      <td>-0.681</td>\n",
       "      <td>0.212</td>\n",
       "      <td>0.496</td>\n",
       "      <td>0.000</td>\n",
       "      <td>0.000</td>\n",
       "      <td>1.000</td>\n",
       "    </tr>\n",
       "  </tbody>\n",
       "</table>\n",
       "</div>"
      ],
      "text/plain": [
       "       0     1      2      3      4      5      6      7     0     1     2\n",
       "0  0.043 0.666  3.614  1.228 -0.958 -0.447  2.310  4.541 0.000 0.000 1.000\n",
       "1  0.961 0.324  1.519  0.131  0.232  0.981  0.847  1.538 0.000 0.000 1.000\n",
       "2  1.321 0.000 -1.186 -0.888  1.422  0.254 -0.000 -1.063 1.000 0.000 0.000\n",
       "3 -0.743 0.000 -1.492 -1.099 -0.873 -0.577 -0.000 -1.266 0.000 1.000 0.000\n",
       "4 -0.481 0.097  0.603  0.858 -0.703 -0.681  0.212  0.496 0.000 0.000 1.000"
      ]
     },
     "execution_count": 81,
     "metadata": {},
     "output_type": "execute_result"
    }
   ],
   "source": [
    "X_train_glucose = pd.concat([X_train_glucose, pd.get_dummies(km.predict(X_train_glucose))], axis=1)  \n",
    "X_train_glucose.head()"
   ]
  },
  {
   "cell_type": "code",
   "execution_count": 55,
   "metadata": {
    "collapsed": false
   },
   "outputs": [
    {
     "data": {
      "text/plain": [
       "0.73856209150326801"
      ]
     },
     "execution_count": 55,
     "metadata": {},
     "output_type": "execute_result"
    },
    {
     "data": {
      "image/png": "[encoded data removed]",
      "text/plain": [
       "<matplotlib.figure.Figure at 0x10b189a90>"
      ]
     },
     "metadata": {},
     "output_type": "display_data"
    }
   ],
   "source": [
    "from sk_modelcurves.learning_curve import draw_learning_curve\n",
    "rf = RandomForestClassifier(n_estimators = 15)\n",
    "knn = KNeighborsClassifier(n_neighbors=7, p = 1, weights = 'distance')\n",
    "nb = GaussianNB()\n",
    "lr = LogisticRegression(C=0.2, penalty = 'l2')\n",
    "draw_learning_curve([knn, nb, lr, rf], X_train_glucose, y_train_glucose, \n",
    "    estimator_titles=['kNN', 'naive Bayes', 'logistic', 'random forest'], cv=5,\n",
    "    scoring='accuracy');\n",
    "lr.fit(X_train_glucose, y_train_glucose)\n",
    "lr.score(X_test_glucose, y_test_glucose)"
   ]
  },
  {
   "cell_type": "code",
   "execution_count": 56,
   "metadata": {
    "collapsed": false
   },
   "outputs": [
    {
     "data": {
      "text/plain": [
       "0.68627450980392157"
      ]
     },
     "execution_count": 56,
     "metadata": {},
     "output_type": "execute_result"
    },
    {
     "data": {
      "image/png": "[encoded data removed]",
      "text/plain": [
       "<matplotlib.figure.Figure at 0x10b4fde10>"
      ]
     },
     "metadata": {},
     "output_type": "display_data"
    }
   ],
   "source": [
    "from sk_modelcurves.learning_curve import draw_learning_curve\n",
    "rf = RandomForestClassifier(n_estimators = 15)\n",
    "knn = KNeighborsClassifier(n_neighbors=7, p = 1, weights = 'distance')\n",
    "nb = GaussianNB()\n",
    "lr = LogisticRegression(C=0.2, penalty = 'l2')\n",
    "draw_learning_curve([knn, nb, lr, rf], X_train_glucose, y_train_glucose, \n",
    "    estimator_titles=['kNN', 'naive Bayes', 'logistic', 'random forest'], cv=5,\n",
    "    scoring='accuracy');\n",
    "nb.fit(X_train_glucose, y_train_glucose)\n",
    "nb.score(X_test_glucose, y_test_glucose)"
   ]
  },
  {
   "cell_type": "markdown",
   "metadata": {},
   "source": [
    "## Learning curves for neither"
   ]
  },
  {
   "cell_type": "code",
   "execution_count": 375,
   "metadata": {
    "collapsed": false
   },
   "outputs": [
    {
     "data": {
      "image/png": "[encoded data removed]",
      "text/plain": [
       "<matplotlib.figure.Figure at 0x13ee68ed0>"
      ]
     },
     "metadata": {},
     "output_type": "display_data"
    }
   ],
   "source": [
    "from sk_modelcurves.learning_curve import draw_learning_curve\n",
    "rf = RandomForestClassifier(n_estimators = 15)\n",
    "knn = KNeighborsClassifier(n_neighbors=7, p = 1, weights = 'distance')\n",
    "nb = GaussianNB()\n",
    "lr = LogisticRegression(C=0.2, penalty = 'l2')\n",
    "draw_learning_curve([knn, nb, lr, rf], X_train_neither, y_train_neither, \n",
    "    estimator_titles=['kNN', 'naive Bayes', 'logistic', 'random forest'], cv=5,\n",
    "    scoring='accuracy');"
   ]
  },
  {
   "cell_type": "markdown",
   "metadata": {},
   "source": [
    "## Learning curves for glucose"
   ]
  },
  {
   "cell_type": "code",
   "execution_count": 340,
   "metadata": {
    "collapsed": false
   },
   "outputs": [
    {
     "data": {
      "image/png": "[encoded data removed]",
      "text/plain": [
       "<matplotlib.figure.Figure at 0x115659e10>"
      ]
     },
     "metadata": {},
     "output_type": "display_data"
    }
   ],
   "source": [
    "from sk_modelcurves.learning_curve import draw_learning_curve\n",
    "rf = RandomForestClassifier(n_estimators = 15)\n",
    "knn = KNeighborsClassifier(n_neighbors=7, p = 1, weights = 'distance')\n",
    "nb = GaussianNB()\n",
    "lr = LogisticRegression(C=0.2, penalty = 'l2')\n",
    "draw_learning_curve([knn, nb, lr, rf], X_train_glucose, y_train_glucose, \n",
    "    estimator_titles=['kNN', 'naive Bayes', 'logistic', 'random forest'], cv=5,\n",
    "    scoring='accuracy');"
   ]
  },
  {
   "cell_type": "markdown",
   "metadata": {},
   "source": [
    "## Learning curves for insulin"
   ]
  },
  {
   "cell_type": "code",
   "execution_count": 341,
   "metadata": {
    "collapsed": false
   },
   "outputs": [
    {
     "data": {
      "image/png": "[encoded data removed]",
      "text/plain": [
       "<matplotlib.figure.Figure at 0x115ba46d0>"
      ]
     },
     "metadata": {},
     "output_type": "display_data"
    }
   ],
   "source": [
    "from sk_modelcurves.learning_curve import draw_learning_curve\n",
    "rf = RandomForestClassifier(n_estimators = 15)\n",
    "knn = KNeighborsClassifier(n_neighbors=7, p = 1, weights = 'distance')\n",
    "nb = GaussianNB()\n",
    "lr = LogisticRegression(C=0.2, penalty = 'l2')\n",
    "draw_learning_curve([knn, nb, lr, rf], X_train_insulin, y_train_insulin, \n",
    "    estimator_titles=['kNN', 'naive Bayes', 'logistic', 'random forest'], cv=5,\n",
    "    scoring='accuracy');"
   ]
  },
  {
   "cell_type": "markdown",
   "metadata": {},
   "source": [
    "## Learning curves for both"
   ]
  },
  {
   "cell_type": "code",
   "execution_count": 342,
   "metadata": {
    "collapsed": false
   },
   "outputs": [
    {
     "data": {
      "image/png": "[encoded data removed]",
      "text/plain": [
       "<matplotlib.figure.Figure at 0x115ba4690>"
      ]
     },
     "metadata": {},
     "output_type": "display_data"
    }
   ],
   "source": [
    "from sk_modelcurves.learning_curve import draw_learning_curve\n",
    "rf = RandomForestClassifier(n_estimators = 15)\n",
    "knn = KNeighborsClassifier(n_neighbors=7, p = 1, weights = 'distance')\n",
    "nb = GaussianNB()\n",
    "lr = LogisticRegression(C=0.2, penalty = 'l2')\n",
    "draw_learning_curve([knn, nb, lr, rf], X_train_both, y_train_both, \n",
    "    estimator_titles=['kNN', 'naive Bayes', 'logistic', 'random forest'], cv=5,\n",
    "    scoring='accuracy');"
   ]
  },
  {
   "cell_type": "markdown",
   "metadata": {},
   "source": [
    "## Score for neither"
   ]
  },
  {
   "cell_type": "code",
   "execution_count": 351,
   "metadata": {
    "collapsed": false
   },
   "outputs": [
    {
     "data": {
      "text/plain": [
       "0.70129870129870131"
      ]
     },
     "execution_count": 351,
     "metadata": {},
     "output_type": "execute_result"
    }
   ],
   "source": [
    "rf.fit(X_train_neither, y_train_neither)\n",
    "rf.score(X_test_neither, y_test_neither)"
   ]
  },
  {
   "cell_type": "code",
   "execution_count": 352,
   "metadata": {
    "collapsed": false
   },
   "outputs": [
    {
     "data": {
      "text/plain": [
       "0.70129870129870131"
      ]
     },
     "execution_count": 352,
     "metadata": {},
     "output_type": "execute_result"
    }
   ],
   "source": [
    "knn.fit(X_train_neither, y_train_neither)\n",
    "knn.score(X_test_neither, y_test_neither)"
   ]
  },
  {
   "cell_type": "code",
   "execution_count": 353,
   "metadata": {
    "collapsed": false
   },
   "outputs": [
    {
     "data": {
      "text/plain": [
       "0.62987012987012991"
      ]
     },
     "execution_count": 353,
     "metadata": {},
     "output_type": "execute_result"
    }
   ],
   "source": [
    "nb.fit(X_train_neither, y_train_neither)\n",
    "nb.score(X_test_neither, y_test_neither)"
   ]
  },
  {
   "cell_type": "code",
   "execution_count": 354,
   "metadata": {
    "collapsed": false
   },
   "outputs": [
    {
     "data": {
      "text/plain": [
       "0.70129870129870131"
      ]
     },
     "execution_count": 354,
     "metadata": {},
     "output_type": "execute_result"
    }
   ],
   "source": [
    "lr.fit(X_train_neither, y_train_neither)\n",
    "lr.score(X_test_neither, y_test_neither)"
   ]
  },
  {
   "cell_type": "markdown",
   "metadata": {},
   "source": [
    "## Score for glucose"
   ]
  },
  {
   "cell_type": "code",
   "execution_count": 355,
   "metadata": {
    "collapsed": false
   },
   "outputs": [
    {
     "data": {
      "text/plain": [
       "0.6797385620915033"
      ]
     },
     "execution_count": 355,
     "metadata": {},
     "output_type": "execute_result"
    }
   ],
   "source": [
    "rf.fit(X_train_glucose, y_train_glucose)\n",
    "rf.score(X_test_glucose, y_test_glucose)"
   ]
  },
  {
   "cell_type": "code",
   "execution_count": 356,
   "metadata": {
    "collapsed": false
   },
   "outputs": [
    {
     "data": {
      "text/plain": [
       "0.75163398692810457"
      ]
     },
     "execution_count": 356,
     "metadata": {},
     "output_type": "execute_result"
    }
   ],
   "source": [
    "knn.fit(X_train_glucose, y_train_glucose)\n",
    "knn.score(X_test_glucose, y_test_glucose)"
   ]
  },
  {
   "cell_type": "code",
   "execution_count": 357,
   "metadata": {
    "collapsed": false
   },
   "outputs": [
    {
     "data": {
      "text/plain": [
       "0.67320261437908502"
      ]
     },
     "execution_count": 357,
     "metadata": {},
     "output_type": "execute_result"
    }
   ],
   "source": [
    "nb.fit(X_train_glucose, y_train_glucose)\n",
    "nb.score(X_test_glucose, y_test_glucose)"
   ]
  },
  {
   "cell_type": "code",
   "execution_count": 358,
   "metadata": {
    "collapsed": false
   },
   "outputs": [
    {
     "data": {
      "text/plain": [
       "0.75163398692810457"
      ]
     },
     "execution_count": 358,
     "metadata": {},
     "output_type": "execute_result"
    }
   ],
   "source": [
    "lr.fit(X_train_glucose, y_train_glucose)\n",
    "lr.score(X_test_glucose, y_test_glucose)"
   ]
  },
  {
   "cell_type": "markdown",
   "metadata": {},
   "source": [
    "## Score for insulin"
   ]
  },
  {
   "cell_type": "code",
   "execution_count": 359,
   "metadata": {
    "collapsed": false
   },
   "outputs": [
    {
     "data": {
      "text/plain": [
       "0.67088607594936711"
      ]
     },
     "execution_count": 359,
     "metadata": {},
     "output_type": "execute_result"
    }
   ],
   "source": [
    "rf.fit(X_train_insulin, y_train_insulin)\n",
    "rf.score(X_test_insulin, y_test_insulin)"
   ]
  },
  {
   "cell_type": "code",
   "execution_count": 360,
   "metadata": {
    "collapsed": false
   },
   "outputs": [
    {
     "data": {
      "text/plain": [
       "0.759493670886076"
      ]
     },
     "execution_count": 360,
     "metadata": {},
     "output_type": "execute_result"
    }
   ],
   "source": [
    "knn.fit(X_train_insulin, y_train_insulin)\n",
    "knn.score(X_test_insulin, y_test_insulin)"
   ]
  },
  {
   "cell_type": "code",
   "execution_count": 361,
   "metadata": {
    "collapsed": false
   },
   "outputs": [
    {
     "data": {
      "text/plain": [
       "0.63291139240506333"
      ]
     },
     "execution_count": 361,
     "metadata": {},
     "output_type": "execute_result"
    }
   ],
   "source": [
    "nb.fit(X_train_insulin, y_train_insulin)\n",
    "nb.score(X_test_insulin, y_test_insulin)"
   ]
  },
  {
   "cell_type": "code",
   "execution_count": 362,
   "metadata": {
    "collapsed": false
   },
   "outputs": [
    {
     "data": {
      "text/plain": [
       "0.65822784810126578"
      ]
     },
     "execution_count": 362,
     "metadata": {},
     "output_type": "execute_result"
    }
   ],
   "source": [
    "lr.fit(X_train_insulin, y_train_insulin)\n",
    "lr.score(X_test_insulin, y_test_insulin)"
   ]
  },
  {
   "cell_type": "markdown",
   "metadata": {},
   "source": [
    "## Score for both"
   ]
  },
  {
   "cell_type": "code",
   "execution_count": 363,
   "metadata": {
    "collapsed": false
   },
   "outputs": [
    {
     "data": {
      "text/plain": [
       "0.72151898734177211"
      ]
     },
     "execution_count": 363,
     "metadata": {},
     "output_type": "execute_result"
    }
   ],
   "source": [
    "rf.fit(X_train_both, y_train_both)\n",
    "rf.score(X_test_both, y_test_both)"
   ]
  },
  {
   "cell_type": "code",
   "execution_count": 364,
   "metadata": {
    "collapsed": false
   },
   "outputs": [
    {
     "data": {
      "text/plain": [
       "0.69620253164556967"
      ]
     },
     "execution_count": 364,
     "metadata": {},
     "output_type": "execute_result"
    }
   ],
   "source": [
    "knn.fit(X_train_both, y_train_both)\n",
    "knn.score(X_test_both, y_test_both)"
   ]
  },
  {
   "cell_type": "code",
   "execution_count": 365,
   "metadata": {
    "collapsed": false
   },
   "outputs": [
    {
     "data": {
      "text/plain": [
       "0.68354430379746833"
      ]
     },
     "execution_count": 365,
     "metadata": {},
     "output_type": "execute_result"
    }
   ],
   "source": [
    "nb.fit(X_train_both, y_train_both)\n",
    "nb.score(X_test_both, y_test_both)"
   ]
  },
  {
   "cell_type": "code",
   "execution_count": 366,
   "metadata": {
    "collapsed": false
   },
   "outputs": [
    {
     "data": {
      "text/plain": [
       "0.74683544303797467"
      ]
     },
     "execution_count": 366,
     "metadata": {},
     "output_type": "execute_result"
    }
   ],
   "source": [
    "lr.fit(X_train_both, y_train_both)\n",
    "lr.score(X_test_both, y_test_both)"
   ]
  },
  {
   "cell_type": "code",
   "execution_count": null,
   "metadata": {
    "collapsed": true
   },
   "outputs": [],
   "source": []
  }
 ],
 "metadata": {
  "kernelspec": {
   "display_name": "Python 2",
   "language": "python",
   "name": "python2"
  },
  "language_info": {
   "codemirror_mode": {
    "name": "ipython",
    "version": 2
   },
   "file_extension": ".py",
   "mimetype": "text/x-python",
   "name": "python",
   "nbconvert_exporter": "python",
   "pygments_lexer": "ipython2",
   "version": "2.7.10"
  }
 },
 "nbformat": 4,
 "nbformat_minor": 0
}
